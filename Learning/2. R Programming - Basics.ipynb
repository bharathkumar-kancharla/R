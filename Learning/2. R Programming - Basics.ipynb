{
  "cells": [
    {
      "metadata": {
        "collapsed": true
      },
      "cell_type": "markdown",
      "source": "# R Operator"
    },
    {
      "metadata": {},
      "cell_type": "markdown",
      "source": "### 1. Assignment Opeartor\n\n> Assigning an value to the variable\n\nAssignment is done using <- or ="
    },
    {
      "metadata": {
        "trusted": true
      },
      "cell_type": "code",
      "source": "a=5\na",
      "execution_count": 1,
      "outputs": [
        {
          "output_type": "display_data",
          "data": {
            "text/plain": "[1] 5",
            "text/latex": "5",
            "text/markdown": "5",
            "text/html": "5"
          },
          "metadata": {}
        }
      ]
    },
    {
      "metadata": {
        "trusted": true
      },
      "cell_type": "code",
      "source": "a<-6    #Left Assignment (Preffered)\na",
      "execution_count": 2,
      "outputs": [
        {
          "output_type": "display_data",
          "data": {
            "text/plain": "[1] 6",
            "text/latex": "6",
            "text/markdown": "6",
            "text/html": "6"
          },
          "metadata": {}
        }
      ]
    },
    {
      "metadata": {
        "trusted": true
      },
      "cell_type": "code",
      "source": "7 ->a   #Right Assignment\na",
      "execution_count": 3,
      "outputs": [
        {
          "output_type": "display_data",
          "data": {
            "text/plain": "[1] 7",
            "text/latex": "7",
            "text/markdown": "7",
            "text/html": "7"
          },
          "metadata": {}
        }
      ]
    },
    {
      "metadata": {
        "trusted": true
      },
      "cell_type": "code",
      "source": "b<-9\nc<-a+b\nc",
      "execution_count": 4,
      "outputs": [
        {
          "output_type": "display_data",
          "data": {
            "text/plain": "[1] 16",
            "text/latex": "16",
            "text/markdown": "16",
            "text/html": "16"
          },
          "metadata": {}
        }
      ]
    },
    {
      "metadata": {
        "trusted": true
      },
      "cell_type": "code",
      "source": "assign(\"d\",12:30)\nd",
      "execution_count": 5,
      "outputs": [
        {
          "output_type": "display_data",
          "data": {
            "text/plain": " [1] 12 13 14 15 16 17 18 19 20 21 22 23 24 25 26 27 28 29 30",
            "text/latex": "\\begin{enumerate*}\n\\item 12\n\\item 13\n\\item 14\n\\item 15\n\\item 16\n\\item 17\n\\item 18\n\\item 19\n\\item 20\n\\item 21\n\\item 22\n\\item 23\n\\item 24\n\\item 25\n\\item 26\n\\item 27\n\\item 28\n\\item 29\n\\item 30\n\\end{enumerate*}\n",
            "text/markdown": "1. 12\n2. 13\n3. 14\n4. 15\n5. 16\n6. 17\n7. 18\n8. 19\n9. 20\n10. 21\n11. 22\n12. 23\n13. 24\n14. 25\n15. 26\n16. 27\n17. 28\n18. 29\n19. 30\n\n\n",
            "text/html": "<ol class=list-inline>\n\t<li>12</li>\n\t<li>13</li>\n\t<li>14</li>\n\t<li>15</li>\n\t<li>16</li>\n\t<li>17</li>\n\t<li>18</li>\n\t<li>19</li>\n\t<li>20</li>\n\t<li>21</li>\n\t<li>22</li>\n\t<li>23</li>\n\t<li>24</li>\n\t<li>25</li>\n\t<li>26</li>\n\t<li>27</li>\n\t<li>28</li>\n\t<li>29</li>\n\t<li>30</li>\n</ol>\n"
          },
          "metadata": {}
        }
      ]
    },
    {
      "metadata": {},
      "cell_type": "markdown",
      "source": "# Mathematical and Logical opertors in R"
    },
    {
      "metadata": {},
      "cell_type": "markdown",
      "source": "## 1. Arithmetic Opertors \n      (+,-,*,/,%%,%/%)"
    },
    {
      "metadata": {
        "trusted": true
      },
      "cell_type": "code",
      "source": "a <- 5\nb <- 2\nc=a*b\ncat('Product of a=5 & b=2 is: ',c,'\\n\\n')\nd=a/b  # Division\ncat('Division of a=5 by b=2 is:  ',d,'\\n\\n')\n\nf=a%/%b #Integer division opeartor : Gives the Quotient\ncat('Integer Division of a=5 by b=2 is: ', f,'\\n\\n')\n\ng=a%%b  #Modulus opeartor : Gives Remainder\ncat('modulus Division of a=5 by b=2 is:  ', g,'\\n\\n')\n\nh = a^b   #Power Opeartor\ncat('power of a=5 by b=2 is:', h,'\\n\\n')",
      "execution_count": 7,
      "outputs": [
        {
          "output_type": "stream",
          "text": "Product of a=5 & b=2 is:  10 \n\nDivision of a=5 by b=2 is:   2.5 \n\nInteger Division of a=5 by b=2 is:  2 \n\nmodulus Division of a=5 by b=2 is:   1 \n\npower of a=5 by b=2 is: 25 \n\n",
          "name": "stdout"
        }
      ]
    },
    {
      "metadata": {
        "trusted": true
      },
      "cell_type": "code",
      "source": "# Compare print vs cat functions\nf=a%/%b \nprint('Integer Division of a=5 by b=2 is: ', f,'\\n\\n')",
      "execution_count": 8,
      "outputs": [
        {
          "output_type": "error",
          "ename": "ERROR",
          "evalue": "Error in print.default(\"Integer Division of a=5 by b=2 is: \", f, \"\\n\\n\"): invalid 'quote' argument\n",
          "traceback": [
            "Error in print.default(\"Integer Division of a=5 by b=2 is: \", f, \"\\n\\n\"): invalid 'quote' argument\nTraceback:\n",
            "1. print(\"Integer Division of a=5 by b=2 is: \", f, \"\\n\\n\")",
            "2. print.default(\"Integer Division of a=5 by b=2 is: \", f, \"\\n\\n\")"
          ]
        }
      ]
    },
    {
      "metadata": {
        "trusted": true
      },
      "cell_type": "code",
      "source": "f=a%/%b \nprint(f)",
      "execution_count": 10,
      "outputs": [
        {
          "output_type": "stream",
          "text": "[1] 2\n",
          "name": "stdout"
        }
      ]
    },
    {
      "metadata": {},
      "cell_type": "markdown",
      "source": "## Realtional Opeartors\n(<.>,<=,>=,==,!=)\n\nNote: Output is always a boolean"
    },
    {
      "metadata": {
        "trusted": true
      },
      "cell_type": "code",
      "source": "a<b  #a=5 and b=2",
      "execution_count": 11,
      "outputs": [
        {
          "output_type": "display_data",
          "data": {
            "text/plain": "[1] FALSE",
            "text/latex": "FALSE",
            "text/markdown": "FALSE",
            "text/html": "FALSE"
          },
          "metadata": {}
        }
      ]
    },
    {
      "metadata": {
        "trusted": true
      },
      "cell_type": "code",
      "source": "a>b",
      "execution_count": 12,
      "outputs": [
        {
          "output_type": "display_data",
          "data": {
            "text/plain": "[1] TRUE",
            "text/latex": "TRUE",
            "text/markdown": "TRUE",
            "text/html": "TRUE"
          },
          "metadata": {}
        }
      ]
    },
    {
      "metadata": {
        "trusted": true
      },
      "cell_type": "code",
      "source": "a==b",
      "execution_count": 13,
      "outputs": [
        {
          "output_type": "display_data",
          "data": {
            "text/plain": "[1] FALSE",
            "text/latex": "FALSE",
            "text/markdown": "FALSE",
            "text/html": "FALSE"
          },
          "metadata": {}
        }
      ]
    },
    {
      "metadata": {
        "trusted": true
      },
      "cell_type": "code",
      "source": "a<=b",
      "execution_count": 14,
      "outputs": [
        {
          "output_type": "display_data",
          "data": {
            "text/plain": "[1] FALSE",
            "text/latex": "FALSE",
            "text/markdown": "FALSE",
            "text/html": "FALSE"
          },
          "metadata": {}
        }
      ]
    },
    {
      "metadata": {
        "trusted": true
      },
      "cell_type": "code",
      "source": "a>=b",
      "execution_count": 15,
      "outputs": [
        {
          "output_type": "display_data",
          "data": {
            "text/plain": "[1] TRUE",
            "text/latex": "TRUE",
            "text/markdown": "TRUE",
            "text/html": "TRUE"
          },
          "metadata": {}
        }
      ]
    },
    {
      "metadata": {
        "trusted": true
      },
      "cell_type": "code",
      "source": "a!=b",
      "execution_count": 16,
      "outputs": [
        {
          "output_type": "display_data",
          "data": {
            "text/plain": "[1] TRUE",
            "text/latex": "TRUE",
            "text/markdown": "TRUE",
            "text/html": "TRUE"
          },
          "metadata": {}
        }
      ]
    },
    {
      "metadata": {},
      "cell_type": "markdown",
      "source": "**Functions to create vetors**\n- `c()` --> combine function\n- `:` --> Sequance function"
    },
    {
      "metadata": {
        "trusted": true
      },
      "cell_type": "code",
      "source": "a=c(1,2,3,4,5,6,7,8,9,10)     # a is treated as vector\na",
      "execution_count": 17,
      "outputs": [
        {
          "output_type": "display_data",
          "data": {
            "text/plain": " [1]  1  2  3  4  5  6  7  8  9 10",
            "text/latex": "\\begin{enumerate*}\n\\item 1\n\\item 2\n\\item 3\n\\item 4\n\\item 5\n\\item 6\n\\item 7\n\\item 8\n\\item 9\n\\item 10\n\\end{enumerate*}\n",
            "text/markdown": "1. 1\n2. 2\n3. 3\n4. 4\n5. 5\n6. 6\n7. 7\n8. 8\n9. 9\n10. 10\n\n\n",
            "text/html": "<ol class=list-inline>\n\t<li>1</li>\n\t<li>2</li>\n\t<li>3</li>\n\t<li>4</li>\n\t<li>5</li>\n\t<li>6</li>\n\t<li>7</li>\n\t<li>8</li>\n\t<li>9</li>\n\t<li>10</li>\n</ol>\n"
          },
          "metadata": {}
        }
      ]
    },
    {
      "metadata": {
        "trusted": true
      },
      "cell_type": "code",
      "source": "a=c(1,2,3,4,5,6,7,8,9,10)     # a is treated as vector\nprint(typeof(a))      # Double\nprint(class(a))       # Numeric   ",
      "execution_count": 18,
      "outputs": [
        {
          "output_type": "stream",
          "text": "[1] \"double\"\n[1] \"numeric\"\n",
          "name": "stdout"
        }
      ]
    },
    {
      "metadata": {
        "trusted": true
      },
      "cell_type": "code",
      "source": "a=c(1:10)\na",
      "execution_count": 19,
      "outputs": [
        {
          "output_type": "display_data",
          "data": {
            "text/plain": " [1]  1  2  3  4  5  6  7  8  9 10",
            "text/latex": "\\begin{enumerate*}\n\\item 1\n\\item 2\n\\item 3\n\\item 4\n\\item 5\n\\item 6\n\\item 7\n\\item 8\n\\item 9\n\\item 10\n\\end{enumerate*}\n",
            "text/markdown": "1. 1\n2. 2\n3. 3\n4. 4\n5. 5\n6. 6\n7. 7\n8. 8\n9. 9\n10. 10\n\n\n",
            "text/html": "<ol class=list-inline>\n\t<li>1</li>\n\t<li>2</li>\n\t<li>3</li>\n\t<li>4</li>\n\t<li>5</li>\n\t<li>6</li>\n\t<li>7</li>\n\t<li>8</li>\n\t<li>9</li>\n\t<li>10</li>\n</ol>\n"
          },
          "metadata": {}
        }
      ]
    },
    {
      "metadata": {
        "trusted": true
      },
      "cell_type": "code",
      "source": "# Element-wise comparision of vector\na<5",
      "execution_count": 20,
      "outputs": [
        {
          "output_type": "display_data",
          "data": {
            "text/plain": " [1]  TRUE  TRUE  TRUE  TRUE FALSE FALSE FALSE FALSE FALSE FALSE",
            "text/latex": "\\begin{enumerate*}\n\\item TRUE\n\\item TRUE\n\\item TRUE\n\\item TRUE\n\\item FALSE\n\\item FALSE\n\\item FALSE\n\\item FALSE\n\\item FALSE\n\\item FALSE\n\\end{enumerate*}\n",
            "text/markdown": "1. TRUE\n2. TRUE\n3. TRUE\n4. TRUE\n5. FALSE\n6. FALSE\n7. FALSE\n8. FALSE\n9. FALSE\n10. FALSE\n\n\n",
            "text/html": "<ol class=list-inline>\n\t<li>TRUE</li>\n\t<li>TRUE</li>\n\t<li>TRUE</li>\n\t<li>TRUE</li>\n\t<li>FALSE</li>\n\t<li>FALSE</li>\n\t<li>FALSE</li>\n\t<li>FALSE</li>\n\t<li>FALSE</li>\n\t<li>FALSE</li>\n</ol>\n"
          },
          "metadata": {}
        }
      ]
    },
    {
      "metadata": {
        "trusted": true
      },
      "cell_type": "code",
      "source": "a[a<5]",
      "execution_count": 21,
      "outputs": [
        {
          "output_type": "display_data",
          "data": {
            "text/plain": "[1] 1 2 3 4",
            "text/latex": "\\begin{enumerate*}\n\\item 1\n\\item 2\n\\item 3\n\\item 4\n\\end{enumerate*}\n",
            "text/markdown": "1. 1\n2. 2\n3. 3\n4. 4\n\n\n",
            "text/html": "<ol class=list-inline>\n\t<li>1</li>\n\t<li>2</li>\n\t<li>3</li>\n\t<li>4</li>\n</ol>\n"
          },
          "metadata": {}
        }
      ]
    },
    {
      "metadata": {},
      "cell_type": "markdown",
      "source": "##  Logical Opeartors\n(AND opeartor - & , OR opeartor - |,Not opeator -!)  "
    },
    {
      "metadata": {},
      "cell_type": "markdown",
      "source": "#### AND opeartor - Only true if both or True"
    },
    {
      "metadata": {
        "trusted": true
      },
      "cell_type": "code",
      "source": "TRUE & TRUE",
      "execution_count": 22,
      "outputs": [
        {
          "output_type": "display_data",
          "data": {
            "text/plain": "[1] TRUE",
            "text/latex": "TRUE",
            "text/markdown": "TRUE",
            "text/html": "TRUE"
          },
          "metadata": {}
        }
      ]
    },
    {
      "metadata": {
        "trusted": true
      },
      "cell_type": "code",
      "source": "TRUE & FALSE   # Similar to FALSE & TRUE",
      "execution_count": 23,
      "outputs": [
        {
          "output_type": "display_data",
          "data": {
            "text/plain": "[1] FALSE",
            "text/latex": "FALSE",
            "text/markdown": "FALSE",
            "text/html": "FALSE"
          },
          "metadata": {}
        }
      ]
    },
    {
      "metadata": {
        "trusted": true
      },
      "cell_type": "code",
      "source": "FALSE & FALSE",
      "execution_count": 24,
      "outputs": [
        {
          "output_type": "display_data",
          "data": {
            "text/plain": "[1] FALSE",
            "text/latex": "FALSE",
            "text/markdown": "FALSE",
            "text/html": "FALSE"
          },
          "metadata": {}
        }
      ]
    },
    {
      "metadata": {},
      "cell_type": "markdown",
      "source": "#### OR Opeartor - True if atleast one is TRUE"
    },
    {
      "metadata": {
        "trusted": true
      },
      "cell_type": "code",
      "source": "TRUE | TRUE",
      "execution_count": 25,
      "outputs": [
        {
          "output_type": "display_data",
          "data": {
            "text/plain": "[1] TRUE",
            "text/latex": "TRUE",
            "text/markdown": "TRUE",
            "text/html": "TRUE"
          },
          "metadata": {}
        }
      ]
    },
    {
      "metadata": {
        "trusted": true
      },
      "cell_type": "code",
      "source": "TRUE | FALSE   # Similar to FALSE | TRUE",
      "execution_count": 26,
      "outputs": [
        {
          "output_type": "display_data",
          "data": {
            "text/plain": "[1] TRUE",
            "text/latex": "TRUE",
            "text/markdown": "TRUE",
            "text/html": "TRUE"
          },
          "metadata": {}
        }
      ]
    },
    {
      "metadata": {
        "trusted": true
      },
      "cell_type": "code",
      "source": "FALSE | FALSE",
      "execution_count": 27,
      "outputs": [
        {
          "output_type": "display_data",
          "data": {
            "text/plain": "[1] FALSE",
            "text/latex": "FALSE",
            "text/markdown": "FALSE",
            "text/html": "FALSE"
          },
          "metadata": {}
        }
      ]
    },
    {
      "metadata": {},
      "cell_type": "markdown",
      "source": "#### Not Opeartor"
    },
    {
      "metadata": {
        "trusted": true
      },
      "cell_type": "code",
      "source": "!TRUE",
      "execution_count": 28,
      "outputs": [
        {
          "output_type": "display_data",
          "data": {
            "text/plain": "[1] FALSE",
            "text/latex": "FALSE",
            "text/markdown": "FALSE",
            "text/html": "FALSE"
          },
          "metadata": {}
        }
      ]
    },
    {
      "metadata": {
        "trusted": true
      },
      "cell_type": "code",
      "source": "!FALSE",
      "execution_count": 29,
      "outputs": [
        {
          "output_type": "display_data",
          "data": {
            "text/plain": "[1] TRUE",
            "text/latex": "TRUE",
            "text/markdown": "TRUE",
            "text/html": "TRUE"
          },
          "metadata": {}
        }
      ]
    },
    {
      "metadata": {},
      "cell_type": "markdown",
      "source": "#### Single opeartor validates elementwise"
    },
    {
      "metadata": {
        "trusted": true
      },
      "cell_type": "code",
      "source": "c(TRUE,FALSE,FALSE) & c(TRUE,TRUE,FALSE)",
      "execution_count": 30,
      "outputs": [
        {
          "output_type": "display_data",
          "data": {
            "text/plain": "[1]  TRUE FALSE FALSE",
            "text/latex": "\\begin{enumerate*}\n\\item TRUE\n\\item FALSE\n\\item FALSE\n\\end{enumerate*}\n",
            "text/markdown": "1. TRUE\n2. FALSE\n3. FALSE\n\n\n",
            "text/html": "<ol class=list-inline>\n\t<li>TRUE</li>\n\t<li>FALSE</li>\n\t<li>FALSE</li>\n</ol>\n"
          },
          "metadata": {}
        }
      ]
    },
    {
      "metadata": {
        "trusted": true
      },
      "cell_type": "code",
      "source": "c(TRUE,FALSE,FALSE) | c(TRUE,TRUE,FALSE)",
      "execution_count": 31,
      "outputs": [
        {
          "output_type": "display_data",
          "data": {
            "text/plain": "[1]  TRUE  TRUE FALSE",
            "text/latex": "\\begin{enumerate*}\n\\item TRUE\n\\item TRUE\n\\item FALSE\n\\end{enumerate*}\n",
            "text/markdown": "1. TRUE\n2. TRUE\n3. FALSE\n\n\n",
            "text/html": "<ol class=list-inline>\n\t<li>TRUE</li>\n\t<li>TRUE</li>\n\t<li>FALSE</li>\n</ol>\n"
          },
          "metadata": {}
        }
      ]
    },
    {
      "metadata": {
        "trusted": true
      },
      "cell_type": "code",
      "source": "!c(TRUE,FALSE)",
      "execution_count": 32,
      "outputs": [
        {
          "output_type": "display_data",
          "data": {
            "text/plain": "[1] FALSE  TRUE",
            "text/latex": "\\begin{enumerate*}\n\\item FALSE\n\\item TRUE\n\\end{enumerate*}\n",
            "text/markdown": "1. FALSE\n2. TRUE\n\n\n",
            "text/html": "<ol class=list-inline>\n\t<li>FALSE</li>\n\t<li>TRUE</li>\n</ol>\n"
          },
          "metadata": {}
        }
      ]
    },
    {
      "metadata": {
        "trusted": true
      },
      "cell_type": "code",
      "source": "c(TRUE,FALSE,FALSE) | c(TRUE,TRUE)",
      "execution_count": 33,
      "outputs": [
        {
          "output_type": "stream",
          "text": "Warning message in c(TRUE, FALSE, FALSE) | c(TRUE, TRUE):\n“longer object length is not a multiple of shorter object length”",
          "name": "stderr"
        },
        {
          "output_type": "display_data",
          "data": {
            "text/plain": "[1] TRUE TRUE TRUE",
            "text/latex": "\\begin{enumerate*}\n\\item TRUE\n\\item TRUE\n\\item TRUE\n\\end{enumerate*}\n",
            "text/markdown": "1. TRUE\n2. TRUE\n3. TRUE\n\n\n",
            "text/html": "<ol class=list-inline>\n\t<li>TRUE</li>\n\t<li>TRUE</li>\n\t<li>TRUE</li>\n</ol>\n"
          },
          "metadata": {}
        }
      ]
    },
    {
      "metadata": {},
      "cell_type": "markdown",
      "source": "#### Double opeartor validates only first element in Vector"
    },
    {
      "metadata": {
        "trusted": true
      },
      "cell_type": "code",
      "source": "c(TRUE,FALSE,FALSE) && c(TRUE,TRUE,FALSE)",
      "execution_count": 34,
      "outputs": [
        {
          "output_type": "display_data",
          "data": {
            "text/plain": "[1] TRUE",
            "text/latex": "TRUE",
            "text/markdown": "TRUE",
            "text/html": "TRUE"
          },
          "metadata": {}
        }
      ]
    },
    {
      "metadata": {
        "trusted": true
      },
      "cell_type": "code",
      "source": "c(TRUE,FALSE,FALSE) && c(FALSE,TRUE,FALSE)",
      "execution_count": 35,
      "outputs": [
        {
          "output_type": "display_data",
          "data": {
            "text/plain": "[1] FALSE",
            "text/latex": "FALSE",
            "text/markdown": "FALSE",
            "text/html": "FALSE"
          },
          "metadata": {}
        }
      ]
    },
    {
      "metadata": {
        "trusted": true
      },
      "cell_type": "code",
      "source": "c(TRUE,FALSE,FALSE) || c(FALSE,TRUE,FALSE)",
      "execution_count": 36,
      "outputs": [
        {
          "output_type": "display_data",
          "data": {
            "text/plain": "[1] TRUE",
            "text/latex": "TRUE",
            "text/markdown": "TRUE",
            "text/html": "TRUE"
          },
          "metadata": {}
        }
      ]
    },
    {
      "metadata": {},
      "cell_type": "markdown",
      "source": "## Conditional Statements & Loops"
    },
    {
      "metadata": {},
      "cell_type": "markdown",
      "source": "In R we have two Conditional Statement. One is __If else__ Statement and another one is __Nested If Else__ Statement. It works like any other programming language. The If else statements are a very important part of R programming. In R there are a lot of powerful packages for data manipulation. It produces a logical value and carries out the next statement only when the logical values become TRUE. If statement, "
    },
    {
      "metadata": {},
      "cell_type": "markdown",
      "source": "### ifelse conditional statements"
    },
    {
      "metadata": {
        "trusted": true
      },
      "cell_type": "code",
      "source": "#ifelse\na<-4\nif(a<4){\n    print('a is less than 4')\n}else{\n    if(a==4){\n        print('a has the value 4')\n    }else{\n        print('a>4')\n    }\n}",
      "execution_count": 37,
      "outputs": [
        {
          "output_type": "stream",
          "text": "[1] \"a has the value 4\"\n",
          "name": "stdout"
        }
      ]
    },
    {
      "metadata": {},
      "cell_type": "markdown",
      "source": "<font color='red'>'Need to understand concept of this even though a<-5 is false still if loop is executing'</font>"
    },
    {
      "metadata": {
        "trusted": true
      },
      "cell_type": "code",
      "source": "if(a<-4)  # Note this assignment opeartor in if conditon \n    { print('loop of __if__ is executed')\n}else{\n    print('else loop is executed')\n}",
      "execution_count": 38,
      "outputs": [
        {
          "output_type": "stream",
          "text": "[1] \"loop of __if__ is executed\"\n",
          "name": "stdout"
        }
      ]
    },
    {
      "metadata": {},
      "cell_type": "markdown",
      "source": "**Note:** a<-4 is always True when we use it as a logical statement, Other than a<-0 anything is assumed to be False"
    },
    {
      "metadata": {
        "trusted": true
      },
      "cell_type": "code",
      "source": "if(a<-5)\n     { print('loop of __if__ is executed')\n}else{\n    print('else loop is executed')\n}",
      "execution_count": 39,
      "outputs": [
        {
          "output_type": "stream",
          "text": "[1] \"loop of __if__ is executed\"\n",
          "name": "stdout"
        }
      ]
    },
    {
      "metadata": {
        "trusted": true
      },
      "cell_type": "code",
      "source": "if(a<-0)\n     { print('loop of __if__ is executed')\n}else{\n    print('else loop is executed')\n}",
      "execution_count": 40,
      "outputs": [
        {
          "output_type": "stream",
          "text": "[1] \"else loop is executed\"\n",
          "name": "stdout"
        }
      ]
    },
    {
      "metadata": {
        "trusted": true
      },
      "cell_type": "code",
      "source": "isTRUE(a<-5)",
      "execution_count": 41,
      "outputs": [
        {
          "output_type": "display_data",
          "data": {
            "text/plain": "[1] FALSE",
            "text/latex": "FALSE",
            "text/markdown": "FALSE",
            "text/html": "FALSE"
          },
          "metadata": {}
        }
      ]
    },
    {
      "metadata": {
        "trusted": true
      },
      "cell_type": "code",
      "source": "isTRUE(a<-4)",
      "execution_count": 42,
      "outputs": [
        {
          "output_type": "display_data",
          "data": {
            "text/plain": "[1] FALSE",
            "text/latex": "FALSE",
            "text/markdown": "FALSE",
            "text/html": "FALSE"
          },
          "metadata": {}
        }
      ]
    },
    {
      "metadata": {
        "trusted": true
      },
      "cell_type": "code",
      "source": "isTRUE(a==4)",
      "execution_count": 43,
      "outputs": [
        {
          "output_type": "display_data",
          "data": {
            "text/plain": "[1] TRUE",
            "text/latex": "TRUE",
            "text/markdown": "TRUE",
            "text/html": "TRUE"
          },
          "metadata": {}
        }
      ]
    },
    {
      "metadata": {
        "trusted": true
      },
      "cell_type": "code",
      "source": "# when a<-0 is treated as false \nif(a<-0)\n     { print('loop of __if__ is executed')\n}else{\n    print('else loop is executed')\n}",
      "execution_count": 44,
      "outputs": [
        {
          "output_type": "stream",
          "text": "[1] \"else loop is executed\"\n",
          "name": "stdout"
        }
      ]
    },
    {
      "metadata": {},
      "cell_type": "markdown",
      "source": "### Nested if-else statement"
    },
    {
      "metadata": {
        "trusted": true
      },
      "cell_type": "code",
      "source": "if(a<4){\n    print('a is less than 4')\n}else if(a==4)   #Notice the difference here\n        {print('a has the value 4')\n    }else{\n        print('a>4')\n    }",
      "execution_count": 45,
      "outputs": [
        {
          "output_type": "stream",
          "text": "[1] \"a is less than 4\"\n",
          "name": "stdout"
        }
      ]
    },
    {
      "metadata": {
        "trusted": true
      },
      "cell_type": "code",
      "source": "#if else function\nifelse(a==4,'YES','NO')",
      "execution_count": 46,
      "outputs": [
        {
          "output_type": "display_data",
          "data": {
            "text/plain": "[1] \"NO\"",
            "text/latex": "'NO'",
            "text/markdown": "'NO'",
            "text/html": "'NO'"
          },
          "metadata": {}
        }
      ]
    },
    {
      "metadata": {
        "trusted": true
      },
      "cell_type": "code",
      "source": "ifelse(a==5,'YES','NO')",
      "execution_count": 47,
      "outputs": [
        {
          "output_type": "display_data",
          "data": {
            "text/plain": "[1] \"NO\"",
            "text/latex": "'NO'",
            "text/markdown": "'NO'",
            "text/html": "'NO'"
          },
          "metadata": {}
        }
      ]
    },
    {
      "metadata": {},
      "cell_type": "markdown",
      "source": "## Loops\n(for,while,Repeat)"
    },
    {
      "metadata": {},
      "cell_type": "markdown",
      "source": "- `for` loop --> it executes loop for specific number of times"
    },
    {
      "metadata": {
        "trusted": true
      },
      "cell_type": "code",
      "source": "vec <-c(1,2,3,4)\nfor(i in vec){\n    print(i)\n}",
      "execution_count": 48,
      "outputs": [
        {
          "output_type": "stream",
          "text": "[1] 1\n[1] 2\n[1] 3\n[1] 4\n",
          "name": "stdout"
        }
      ]
    },
    {
      "metadata": {},
      "cell_type": "markdown",
      "source": "__`while` loop__ --> While loop repeats a statement or group of statements when the given condition is true. It is testing the condition before executing the Loop body.Now in While Loop, while the test expression remains true, the code inside the loop keeps on executing\n\n__NOTE:__ Make sure loop break after some repetition else it will create infinite loop"
    },
    {
      "metadata": {
        "trusted": true
      },
      "cell_type": "code",
      "source": "x<-1\nwhile(x<6){\n    print(x)\n    x=x+1   #Incrementating x by 1 each time\n}",
      "execution_count": 54,
      "outputs": [
        {
          "output_type": "stream",
          "text": "[1] 1\n[1] 2\n[1] 3\n[1] 4\n[1] 5\n",
          "name": "stdout"
        }
      ]
    },
    {
      "metadata": {},
      "cell_type": "markdown",
      "source": "__Repeat Loop :__ A Repeat Loop executes a sequence of statements multiple times and abbreviates the code that manages the Loop variable\n\nEarlier cases in For Loop and While Loop we are giving the condition before we even start the loop but in Repeat Loop we are not mentioning any condition\n\nSince there is no conditional check to exit the loop, we need to specify it inside the body of the loop"
    },
    {
      "metadata": {
        "trusted": true
      },
      "cell_type": "code",
      "source": "x<-1\nrepeat{\n    print(x)\n    x=x+1\n    if (x==6){\n        break\n    }\n}",
      "execution_count": 49,
      "outputs": [
        {
          "output_type": "stream",
          "text": "[1] 1\n[1] 2\n[1] 3\n[1] 4\n[1] 5\n",
          "name": "stdout"
        }
      ]
    },
    {
      "metadata": {},
      "cell_type": "markdown",
      "source": "### Break statement\n\nIn a Repeat Loop if you actually want to break from that loop so based on a condition you can write that statement. __Break Statement is used inside a loop, to stop the iteration and flow the control outside of the loop.__ It is also used to terminate a case in the switch statement. Break Statement can also be used inside the else branch of the if else statement. Just like the While and Repeat Loop, you can break out of a loop completely by using the break statement"
    },
    {
      "metadata": {},
      "cell_type": "markdown",
      "source": "### Next Statement: \n\nNext statement is useful when we want to skip the current iteration of a loop without terminating it. On encountering next, the R parser skips further evaluation and starts next iteration of the loop. Next Statement simulates the behavior of R switch. The next discontinues a particular iteration and jumps to the Next Cycle. In fact, it jumps to the evaluation of the condition holding the current loop. The Next Statements can also be used inside the else branch and of if else statements. Next Statement actually helps to skip from a current relationship of a loop. "
    },
    {
      "metadata": {
        "trusted": true
      },
      "cell_type": "code",
      "source": "#Next statement --> it helps in skipping the current iteration of a loop\nnum<-1:5\nfor (i in num){\n    if(i==3)\n        {\n        next    # Skips i=3 in output\n    }\n    print(i)\n}",
      "execution_count": 50,
      "outputs": [
        {
          "output_type": "stream",
          "text": "[1] 1\n[1] 2\n[1] 4\n[1] 5\n",
          "name": "stdout"
        }
      ]
    },
    {
      "metadata": {
        "trusted": true
      },
      "cell_type": "markdown",
      "source": "## Functions"
    },
    {
      "metadata": {},
      "cell_type": "markdown",
      "source": "__Structure of function__\n\n    my_fun<-function(arg1,arg2){\n        __body of function__\n    }"
    },
    {
      "metadata": {
        "trusted": true
      },
      "cell_type": "code",
      "source": "add<-function(x,y=1){\n    x+y\n}\n\nadd(2,3)  # Overrides default y value",
      "execution_count": 51,
      "outputs": [
        {
          "output_type": "display_data",
          "data": {
            "text/plain": "[1] 5",
            "text/latex": "5",
            "text/markdown": "5",
            "text/html": "5"
          },
          "metadata": {}
        }
      ]
    },
    {
      "metadata": {
        "trusted": true
      },
      "cell_type": "code",
      "source": "add(2)  # defaults y = 1 ",
      "execution_count": 52,
      "outputs": [
        {
          "output_type": "display_data",
          "data": {
            "text/plain": "[1] 3",
            "text/latex": "3",
            "text/markdown": "3",
            "text/html": "3"
          },
          "metadata": {}
        }
      ]
    },
    {
      "metadata": {
        "trusted": true
      },
      "cell_type": "code",
      "source": "add()",
      "execution_count": 53,
      "outputs": [
        {
          "output_type": "error",
          "ename": "ERROR",
          "evalue": "Error in add(): argument \"x\" is missing, with no default\n",
          "traceback": [
            "Error in add(): argument \"x\" is missing, with no default\nTraceback:\n",
            "1. add()"
          ]
        }
      ]
    },
    {
      "metadata": {},
      "cell_type": "markdown",
      "source": "### Inbuilt functions"
    },
    {
      "metadata": {
        "trusted": true
      },
      "cell_type": "code",
      "source": "?sd  # Help on standard function",
      "execution_count": 54,
      "outputs": []
    },
    {
      "metadata": {
        "trusted": true
      },
      "cell_type": "code",
      "source": "help(sd)",
      "execution_count": 55,
      "outputs": []
    },
    {
      "metadata": {
        "trusted": true
      },
      "cell_type": "code",
      "source": "vec<-c(1,5,6,7,NA)\nsd(vec)",
      "execution_count": 56,
      "outputs": [
        {
          "output_type": "display_data",
          "data": {
            "text/plain": "[1] NA",
            "text/latex": "<NA>",
            "text/markdown": "&lt;NA&gt;",
            "text/html": "&lt;NA&gt;"
          },
          "metadata": {}
        }
      ]
    },
    {
      "metadata": {
        "trusted": true
      },
      "cell_type": "code",
      "source": "sd(vec,na.rm=FALSE)",
      "execution_count": 57,
      "outputs": [
        {
          "output_type": "display_data",
          "data": {
            "text/plain": "[1] NA",
            "text/latex": "<NA>",
            "text/markdown": "&lt;NA&gt;",
            "text/html": "&lt;NA&gt;"
          },
          "metadata": {}
        }
      ]
    },
    {
      "metadata": {
        "trusted": true
      },
      "cell_type": "code",
      "source": "sd(vec,na.rm=TRUE)",
      "execution_count": 58,
      "outputs": [
        {
          "output_type": "display_data",
          "data": {
            "text/plain": "[1] 2.629956",
            "text/latex": "2.62995563967658",
            "text/markdown": "2.62995563967658",
            "text/html": "2.62995563967658"
          },
          "metadata": {}
        }
      ]
    },
    {
      "metadata": {},
      "cell_type": "markdown",
      "source": "**Different Inbulit functions:**\n1. Numeric Function\n2. Statistic Function\n3. Character Function"
    },
    {
      "metadata": {},
      "cell_type": "markdown",
      "source": "#### Numeric Functions"
    },
    {
      "metadata": {
        "trusted": true
      },
      "cell_type": "code",
      "source": "sqrt(9)   #To find the square root of any number",
      "execution_count": 59,
      "outputs": [
        {
          "output_type": "display_data",
          "data": {
            "text/plain": "[1] 3",
            "text/latex": "3",
            "text/markdown": "3",
            "text/html": "3"
          },
          "metadata": {}
        }
      ]
    },
    {
      "metadata": {
        "trusted": true
      },
      "cell_type": "code",
      "source": "ceiling(3.0001)",
      "execution_count": 60,
      "outputs": [
        {
          "output_type": "display_data",
          "data": {
            "text/plain": "[1] 4",
            "text/latex": "4",
            "text/markdown": "4",
            "text/html": "4"
          },
          "metadata": {}
        }
      ]
    },
    {
      "metadata": {
        "trusted": true
      },
      "cell_type": "code",
      "source": "floor(5.9)",
      "execution_count": 61,
      "outputs": [
        {
          "output_type": "display_data",
          "data": {
            "text/plain": "[1] 5",
            "text/latex": "5",
            "text/markdown": "5",
            "text/html": "5"
          },
          "metadata": {}
        }
      ]
    },
    {
      "metadata": {
        "trusted": true
      },
      "cell_type": "code",
      "source": "exp(2)",
      "execution_count": 62,
      "outputs": [
        {
          "output_type": "display_data",
          "data": {
            "text/plain": "[1] 7.389056",
            "text/latex": "7.38905609893065",
            "text/markdown": "7.38905609893065",
            "text/html": "7.38905609893065"
          },
          "metadata": {}
        }
      ]
    },
    {
      "metadata": {
        "trusted": true
      },
      "cell_type": "code",
      "source": "log(5)  #Natural Algorithm",
      "execution_count": 63,
      "outputs": [
        {
          "output_type": "display_data",
          "data": {
            "text/plain": "[1] 1.609438",
            "text/latex": "1.6094379124341",
            "text/markdown": "1.6094379124341",
            "text/html": "1.6094379124341"
          },
          "metadata": {}
        }
      ]
    },
    {
      "metadata": {
        "trusted": true
      },
      "cell_type": "code",
      "source": "log10(5)   #Common algorithm",
      "execution_count": 64,
      "outputs": [
        {
          "output_type": "display_data",
          "data": {
            "text/plain": "[1] 0.69897",
            "text/latex": "0.698970004336019",
            "text/markdown": "0.698970004336019",
            "text/html": "0.698970004336019"
          },
          "metadata": {}
        }
      ]
    },
    {
      "metadata": {
        "trusted": true
      },
      "cell_type": "code",
      "source": "#round(x,digits=n)\nround(3.475,digits=2)",
      "execution_count": 65,
      "outputs": [
        {
          "output_type": "display_data",
          "data": {
            "text/plain": "[1] 3.48",
            "text/latex": "3.48",
            "text/markdown": "3.48",
            "text/html": "3.48"
          },
          "metadata": {}
        }
      ]
    },
    {
      "metadata": {
        "trusted": true
      },
      "cell_type": "code",
      "source": "vec<-c(1,2,3)\nappend(vec,4)",
      "execution_count": 66,
      "outputs": [
        {
          "output_type": "display_data",
          "data": {
            "text/plain": "[1] 1 2 3 4",
            "text/latex": "\\begin{enumerate*}\n\\item 1\n\\item 2\n\\item 3\n\\item 4\n\\end{enumerate*}\n",
            "text/markdown": "1. 1\n2. 2\n3. 3\n4. 4\n\n\n",
            "text/html": "<ol class=list-inline>\n\t<li>1</li>\n\t<li>2</li>\n\t<li>3</li>\n\t<li>4</li>\n</ol>\n"
          },
          "metadata": {}
        }
      ]
    },
    {
      "metadata": {
        "trusted": true
      },
      "cell_type": "code",
      "source": "vec.append(5)",
      "execution_count": 67,
      "outputs": [
        {
          "output_type": "error",
          "ename": "ERROR",
          "evalue": "Error in vec.append(5): could not find function \"vec.append\"\n",
          "traceback": [
            "Error in vec.append(5): could not find function \"vec.append\"\nTraceback:\n"
          ]
        }
      ]
    },
    {
      "metadata": {
        "trusted": true
      },
      "cell_type": "code",
      "source": "a=5;b=5\nidentical(a,b)",
      "execution_count": 68,
      "outputs": [
        {
          "output_type": "display_data",
          "data": {
            "text/plain": "[1] TRUE",
            "text/latex": "TRUE",
            "text/markdown": "TRUE",
            "text/html": "TRUE"
          },
          "metadata": {}
        }
      ]
    },
    {
      "metadata": {
        "trusted": true
      },
      "cell_type": "code",
      "source": "ceiling(NaN)  #If the numeric expression is not a number(NaN) therefore ceiling will go back to NaN.",
      "execution_count": 69,
      "outputs": [
        {
          "output_type": "display_data",
          "data": {
            "text/plain": "[1] NaN",
            "text/latex": "NaN",
            "text/markdown": "NaN",
            "text/html": "NaN"
          },
          "metadata": {}
        }
      ]
    },
    {
      "metadata": {
        "trusted": true
      },
      "cell_type": "code",
      "source": "ceiling(-3.0001)",
      "execution_count": 70,
      "outputs": [
        {
          "output_type": "display_data",
          "data": {
            "text/plain": "[1] -3",
            "text/latex": "-3",
            "text/markdown": "-3",
            "text/html": "-3"
          },
          "metadata": {}
        }
      ]
    },
    {
      "metadata": {
        "trusted": true
      },
      "cell_type": "code",
      "source": "a.identical(b)",
      "execution_count": 71,
      "outputs": [
        {
          "output_type": "error",
          "ename": "ERROR",
          "evalue": "Error in a.identical(b): could not find function \"a.identical\"\n",
          "traceback": [
            "Error in a.identical(b): could not find function \"a.identical\"\nTraceback:\n"
          ]
        }
      ]
    },
    {
      "metadata": {
        "trusted": true
      },
      "cell_type": "code",
      "source": "# identical(x, y, num.eq = TRUE, single.NA = TRUE, attrib.as.set = TRUE,ignore.bytecode = TRUE, ignore.environment = FALSE,ignore.srcref = TRUE)\na=5\nb=5\nidentical(a,b)",
      "execution_count": 72,
      "outputs": [
        {
          "output_type": "display_data",
          "data": {
            "text/plain": "[1] TRUE",
            "text/latex": "TRUE",
            "text/markdown": "TRUE",
            "text/html": "TRUE"
          },
          "metadata": {}
        }
      ]
    },
    {
      "metadata": {
        "trusted": true
      },
      "cell_type": "code",
      "source": "length(vec)  #Get or set the length of vectors (including lists) and factors, and of any other R object for which a method has been defined.",
      "execution_count": 73,
      "outputs": [
        {
          "output_type": "display_data",
          "data": {
            "text/plain": "[1] 3",
            "text/latex": "3",
            "text/markdown": "3",
            "text/html": "3"
          },
          "metadata": {}
        }
      ]
    },
    {
      "metadata": {
        "trusted": true
      },
      "cell_type": "code",
      "source": "range(vec)   #Returns range",
      "execution_count": 74,
      "outputs": [
        {
          "output_type": "display_data",
          "data": {
            "text/plain": "[1] 1 3",
            "text/latex": "\\begin{enumerate*}\n\\item 1\n\\item 3\n\\end{enumerate*}\n",
            "text/markdown": "1. 1\n2. 3\n\n\n",
            "text/html": "<ol class=list-inline>\n\t<li>1</li>\n\t<li>3</li>\n</ol>\n"
          },
          "metadata": {}
        }
      ]
    },
    {
      "metadata": {
        "trusted": true
      },
      "cell_type": "code",
      "source": "rev(vec)  #Provides the reverse version of argument",
      "execution_count": 75,
      "outputs": [
        {
          "output_type": "display_data",
          "data": {
            "text/plain": "[1] 3 2 1",
            "text/latex": "\\begin{enumerate*}\n\\item 3\n\\item 2\n\\item 1\n\\end{enumerate*}\n",
            "text/markdown": "1. 3\n2. 2\n3. 1\n\n\n",
            "text/html": "<ol class=list-inline>\n\t<li>3</li>\n\t<li>2</li>\n\t<li>1</li>\n</ol>\n"
          },
          "metadata": {}
        }
      ]
    },
    {
      "metadata": {
        "trusted": true
      },
      "cell_type": "code",
      "source": "seq(1,10,2)   #Generates the regular sequances from 1 to 10 spaced by 2\n\n#seq(from = 1, to = 1, by = ((to - from)/(length.out - 1)),length.out = NULL, along.with = NULL, ...)\n#seq.int(from, to, by, length.out, along.with, ...)",
      "execution_count": 30,
      "outputs": [
        {
          "output_type": "display_data",
          "data": {
            "text/plain": "[1] 1 3 5 7 9",
            "text/latex": "\\begin{enumerate*}\n\\item 1\n\\item 3\n\\item 5\n\\item 7\n\\item 9\n\\end{enumerate*}\n",
            "text/markdown": "1. 1\n2. 3\n3. 5\n4. 7\n5. 9\n\n\n",
            "text/html": "<ol class=list-inline>\n\t<li>1</li>\n\t<li>3</li>\n\t<li>5</li>\n\t<li>7</li>\n\t<li>9</li>\n</ol>\n"
          },
          "metadata": {}
        }
      ]
    },
    {
      "metadata": {
        "trusted": true
      },
      "cell_type": "code",
      "source": "x<-c(9,8,7,6)\nind<-seq(along=x)    #Accessing a value in the vector through index vector\nind",
      "execution_count": 76,
      "outputs": [
        {
          "output_type": "display_data",
          "data": {
            "text/plain": "[1] 1 2 3 4",
            "text/latex": "\\begin{enumerate*}\n\\item 1\n\\item 2\n\\item 3\n\\item 4\n\\end{enumerate*}\n",
            "text/markdown": "1. 1\n2. 2\n3. 3\n4. 4\n\n\n",
            "text/html": "<ol class=list-inline>\n\t<li>1</li>\n\t<li>2</li>\n\t<li>3</li>\n\t<li>4</li>\n</ol>\n"
          },
          "metadata": {}
        }
      ]
    },
    {
      "metadata": {
        "trusted": true
      },
      "cell_type": "code",
      "source": "x[ind[2]]",
      "execution_count": 77,
      "outputs": [
        {
          "output_type": "display_data",
          "data": {
            "text/plain": "[1] 8",
            "text/latex": "8",
            "text/markdown": "8",
            "text/html": "8"
          },
          "metadata": {}
        }
      ]
    },
    {
      "metadata": {},
      "cell_type": "markdown",
      "source": "**Sequances of Dates**"
    },
    {
      "metadata": {
        "trusted": true
      },
      "cell_type": "code",
      "source": "seq(as.Date(\"2017-01-01\"),by='months',length=6)   #Dates sequance using months",
      "execution_count": 78,
      "outputs": [
        {
          "output_type": "display_data",
          "data": {
            "text/plain": "[1] \"2017-01-01\" \"2017-02-01\" \"2017-03-01\" \"2017-04-01\" \"2017-05-01\"\n[6] \"2017-06-01\"",
            "text/latex": "\\begin{enumerate*}\n\\item 2017-01-01\n\\item 2017-02-01\n\\item 2017-03-01\n\\item 2017-04-01\n\\item 2017-05-01\n\\item 2017-06-01\n\\end{enumerate*}\n",
            "text/markdown": "1. 2017-01-01\n2. 2017-02-01\n3. 2017-03-01\n4. 2017-04-01\n5. 2017-05-01\n6. 2017-06-01\n\n\n",
            "text/html": "<ol class=list-inline>\n\t<li><time datetime=\"2017-01-01\">2017-01-01</time></li>\n\t<li><time datetime=\"2017-02-01\">2017-02-01</time></li>\n\t<li><time datetime=\"2017-03-01\">2017-03-01</time></li>\n\t<li><time datetime=\"2017-04-01\">2017-04-01</time></li>\n\t<li><time datetime=\"2017-05-01\">2017-05-01</time></li>\n\t<li><time datetime=\"2017-06-01\">2017-06-01</time></li>\n</ol>\n"
          },
          "metadata": {}
        }
      ]
    },
    {
      "metadata": {
        "trusted": true
      },
      "cell_type": "code",
      "source": "seq(as.Date(\"2017-01-01\"),by='days',length=6)   #Dates sequance using months",
      "execution_count": 79,
      "outputs": [
        {
          "output_type": "display_data",
          "data": {
            "text/plain": "[1] \"2017-01-01\" \"2017-01-02\" \"2017-01-03\" \"2017-01-04\" \"2017-01-05\"\n[6] \"2017-01-06\"",
            "text/latex": "\\begin{enumerate*}\n\\item 2017-01-01\n\\item 2017-01-02\n\\item 2017-01-03\n\\item 2017-01-04\n\\item 2017-01-05\n\\item 2017-01-06\n\\end{enumerate*}\n",
            "text/markdown": "1. 2017-01-01\n2. 2017-01-02\n3. 2017-01-03\n4. 2017-01-04\n5. 2017-01-05\n6. 2017-01-06\n\n\n",
            "text/html": "<ol class=list-inline>\n\t<li><time datetime=\"2017-01-01\">2017-01-01</time></li>\n\t<li><time datetime=\"2017-01-02\">2017-01-02</time></li>\n\t<li><time datetime=\"2017-01-03\">2017-01-03</time></li>\n\t<li><time datetime=\"2017-01-04\">2017-01-04</time></li>\n\t<li><time datetime=\"2017-01-05\">2017-01-05</time></li>\n\t<li><time datetime=\"2017-01-06\">2017-01-06</time></li>\n</ol>\n"
          },
          "metadata": {}
        }
      ]
    },
    {
      "metadata": {
        "trusted": true
      },
      "cell_type": "code",
      "source": "seq(as.Date(\"2017-01-01\"),by='years',length=6)   #Dates sequance using months",
      "execution_count": 80,
      "outputs": [
        {
          "output_type": "display_data",
          "data": {
            "text/plain": "[1] \"2017-01-01\" \"2018-01-01\" \"2019-01-01\" \"2020-01-01\" \"2021-01-01\"\n[6] \"2022-01-01\"",
            "text/latex": "\\begin{enumerate*}\n\\item 2017-01-01\n\\item 2018-01-01\n\\item 2019-01-01\n\\item 2020-01-01\n\\item 2021-01-01\n\\item 2022-01-01\n\\end{enumerate*}\n",
            "text/markdown": "1. 2017-01-01\n2. 2018-01-01\n3. 2019-01-01\n4. 2020-01-01\n5. 2021-01-01\n6. 2022-01-01\n\n\n",
            "text/html": "<ol class=list-inline>\n\t<li><time datetime=\"2017-01-01\">2017-01-01</time></li>\n\t<li><time datetime=\"2018-01-01\">2018-01-01</time></li>\n\t<li><time datetime=\"2019-01-01\">2019-01-01</time></li>\n\t<li><time datetime=\"2020-01-01\">2020-01-01</time></li>\n\t<li><time datetime=\"2021-01-01\">2021-01-01</time></li>\n\t<li><time datetime=\"2022-01-01\">2022-01-01</time></li>\n</ol>\n"
          },
          "metadata": {}
        }
      ]
    },
    {
      "metadata": {},
      "cell_type": "markdown",
      "source": "## letters[]"
    },
    {
      "metadata": {
        "trusted": true
      },
      "cell_type": "code",
      "source": "letters[5:15]  #sequance of small letters",
      "execution_count": 81,
      "outputs": [
        {
          "output_type": "display_data",
          "data": {
            "text/plain": " [1] \"e\" \"f\" \"g\" \"h\" \"i\" \"j\" \"k\" \"l\" \"m\" \"n\" \"o\"",
            "text/latex": "\\begin{enumerate*}\n\\item 'e'\n\\item 'f'\n\\item 'g'\n\\item 'h'\n\\item 'i'\n\\item 'j'\n\\item 'k'\n\\item 'l'\n\\item 'm'\n\\item 'n'\n\\item 'o'\n\\end{enumerate*}\n",
            "text/markdown": "1. 'e'\n2. 'f'\n3. 'g'\n4. 'h'\n5. 'i'\n6. 'j'\n7. 'k'\n8. 'l'\n9. 'm'\n10. 'n'\n11. 'o'\n\n\n",
            "text/html": "<ol class=list-inline>\n\t<li>'e'</li>\n\t<li>'f'</li>\n\t<li>'g'</li>\n\t<li>'h'</li>\n\t<li>'i'</li>\n\t<li>'j'</li>\n\t<li>'k'</li>\n\t<li>'l'</li>\n\t<li>'m'</li>\n\t<li>'n'</li>\n\t<li>'o'</li>\n</ol>\n"
          },
          "metadata": {}
        }
      ]
    },
    {
      "metadata": {
        "trusted": true
      },
      "cell_type": "code",
      "source": "LETTERS[5:15]   #Sequance of capital letters",
      "execution_count": 82,
      "outputs": [
        {
          "output_type": "display_data",
          "data": {
            "text/plain": " [1] \"E\" \"F\" \"G\" \"H\" \"I\" \"J\" \"K\" \"L\" \"M\" \"N\" \"O\"",
            "text/latex": "\\begin{enumerate*}\n\\item 'E'\n\\item 'F'\n\\item 'G'\n\\item 'H'\n\\item 'I'\n\\item 'J'\n\\item 'K'\n\\item 'L'\n\\item 'M'\n\\item 'N'\n\\item 'O'\n\\end{enumerate*}\n",
            "text/markdown": "1. 'E'\n2. 'F'\n3. 'G'\n4. 'H'\n5. 'I'\n6. 'J'\n7. 'K'\n8. 'L'\n9. 'M'\n10. 'N'\n11. 'O'\n\n\n",
            "text/html": "<ol class=list-inline>\n\t<li>'E'</li>\n\t<li>'F'</li>\n\t<li>'G'</li>\n\t<li>'H'</li>\n\t<li>'I'</li>\n\t<li>'J'</li>\n\t<li>'K'</li>\n\t<li>'L'</li>\n\t<li>'M'</li>\n\t<li>'N'</li>\n\t<li>'O'</li>\n</ol>\n"
          },
          "metadata": {}
        }
      ]
    },
    {
      "metadata": {
        "trusted": true
      },
      "cell_type": "code",
      "source": "# rep(x,times=n,each=m)  --repeat x as a whole n times,each cell m times\nvec1<-c(1,2,3)\nrep(vec1,times = 2)",
      "execution_count": 83,
      "outputs": [
        {
          "output_type": "display_data",
          "data": {
            "text/plain": "[1] 1 2 3 1 2 3",
            "text/latex": "\\begin{enumerate*}\n\\item 1\n\\item 2\n\\item 3\n\\item 1\n\\item 2\n\\item 3\n\\end{enumerate*}\n",
            "text/markdown": "1. 1\n2. 2\n3. 3\n4. 1\n5. 2\n6. 3\n\n\n",
            "text/html": "<ol class=list-inline>\n\t<li>1</li>\n\t<li>2</li>\n\t<li>3</li>\n\t<li>1</li>\n\t<li>2</li>\n\t<li>3</li>\n</ol>\n"
          },
          "metadata": {}
        }
      ]
    },
    {
      "metadata": {
        "trusted": true
      },
      "cell_type": "code",
      "source": "rep(vec1,each=2)",
      "execution_count": 84,
      "outputs": [
        {
          "output_type": "display_data",
          "data": {
            "text/plain": "[1] 1 1 2 2 3 3",
            "text/latex": "\\begin{enumerate*}\n\\item 1\n\\item 1\n\\item 2\n\\item 2\n\\item 3\n\\item 3\n\\end{enumerate*}\n",
            "text/markdown": "1. 1\n2. 1\n3. 2\n4. 2\n5. 3\n6. 3\n\n\n",
            "text/html": "<ol class=list-inline>\n\t<li>1</li>\n\t<li>1</li>\n\t<li>2</li>\n\t<li>2</li>\n\t<li>3</li>\n\t<li>3</li>\n</ol>\n"
          },
          "metadata": {}
        }
      ]
    },
    {
      "metadata": {
        "trusted": true
      },
      "cell_type": "code",
      "source": "rep(vec1,times=2,each=3)",
      "execution_count": 85,
      "outputs": [
        {
          "output_type": "display_data",
          "data": {
            "text/plain": " [1] 1 1 1 2 2 2 3 3 3 1 1 1 2 2 2 3 3 3",
            "text/latex": "\\begin{enumerate*}\n\\item 1\n\\item 1\n\\item 1\n\\item 2\n\\item 2\n\\item 2\n\\item 3\n\\item 3\n\\item 3\n\\item 1\n\\item 1\n\\item 1\n\\item 2\n\\item 2\n\\item 2\n\\item 3\n\\item 3\n\\item 3\n\\end{enumerate*}\n",
            "text/markdown": "1. 1\n2. 1\n3. 1\n4. 2\n5. 2\n6. 2\n7. 3\n8. 3\n9. 3\n10. 1\n11. 1\n12. 1\n13. 2\n14. 2\n15. 2\n16. 3\n17. 3\n18. 3\n\n\n",
            "text/html": "<ol class=list-inline>\n\t<li>1</li>\n\t<li>1</li>\n\t<li>1</li>\n\t<li>2</li>\n\t<li>2</li>\n\t<li>2</li>\n\t<li>3</li>\n\t<li>3</li>\n\t<li>3</li>\n\t<li>1</li>\n\t<li>1</li>\n\t<li>1</li>\n\t<li>2</li>\n\t<li>2</li>\n\t<li>2</li>\n\t<li>3</li>\n\t<li>3</li>\n\t<li>3</li>\n</ol>\n"
          },
          "metadata": {}
        }
      ]
    },
    {
      "metadata": {},
      "cell_type": "markdown",
      "source": "## Statistical Function"
    },
    {
      "metadata": {},
      "cell_type": "markdown",
      "source": "__mean(x, trim = 0, na.rm = FALSE, ...)__\nmean() of an observation variable is a numerical measure of the central area of the data values.\nThe keyword is “Univar”. Mean() function is the arithmetic average and is a common statistic\nused with ratio data. Mean can be calculated on an isolated variable via the mean(VAR)\ncommand. VAR is the name of the variable."
    },
    {
      "metadata": {
        "trusted": true
      },
      "cell_type": "code",
      "source": "vect<-c(3,5,6,1,14,18,43)\nmean(vect)",
      "execution_count": 86,
      "outputs": [
        {
          "output_type": "display_data",
          "data": {
            "text/plain": "[1] 12.85714",
            "text/latex": "12.8571428571429",
            "text/markdown": "12.8571428571429",
            "text/html": "12.8571428571429"
          },
          "metadata": {}
        }
      ]
    },
    {
      "metadata": {
        "trusted": true
      },
      "cell_type": "code",
      "source": "median(vect)",
      "execution_count": 87,
      "outputs": [
        {
          "output_type": "display_data",
          "data": {
            "text/plain": "[1] 6",
            "text/latex": "6",
            "text/markdown": "6",
            "text/html": "6"
          },
          "metadata": {}
        }
      ]
    },
    {
      "metadata": {
        "trusted": true
      },
      "cell_type": "code",
      "source": "sd(vect)",
      "execution_count": 88,
      "outputs": [
        {
          "output_type": "display_data",
          "data": {
            "text/plain": "[1] 14.62223",
            "text/latex": "14.6222270468463",
            "text/markdown": "14.6222270468463",
            "text/html": "14.6222270468463"
          },
          "metadata": {}
        }
      ]
    },
    {
      "metadata": {
        "trusted": true
      },
      "cell_type": "code",
      "source": "range(vect)",
      "execution_count": 89,
      "outputs": [
        {
          "output_type": "display_data",
          "data": {
            "text/plain": "[1]  1 43",
            "text/latex": "\\begin{enumerate*}\n\\item 1\n\\item 43\n\\end{enumerate*}\n",
            "text/markdown": "1. 1\n2. 43\n\n\n",
            "text/html": "<ol class=list-inline>\n\t<li>1</li>\n\t<li>43</li>\n</ol>\n"
          },
          "metadata": {}
        }
      ]
    },
    {
      "metadata": {
        "trusted": true
      },
      "cell_type": "code",
      "source": "sum(vect)",
      "execution_count": 90,
      "outputs": [
        {
          "output_type": "display_data",
          "data": {
            "text/plain": "[1] 90",
            "text/latex": "90",
            "text/markdown": "90",
            "text/html": "90"
          },
          "metadata": {}
        }
      ]
    },
    {
      "metadata": {
        "trusted": true
      },
      "cell_type": "code",
      "source": "min(vect)",
      "execution_count": 91,
      "outputs": [
        {
          "output_type": "display_data",
          "data": {
            "text/plain": "[1] 1",
            "text/latex": "1",
            "text/markdown": "1",
            "text/html": "1"
          },
          "metadata": {}
        }
      ]
    },
    {
      "metadata": {
        "trusted": true
      },
      "cell_type": "code",
      "source": "max(vect)",
      "execution_count": 92,
      "outputs": [
        {
          "output_type": "display_data",
          "data": {
            "text/plain": "[1] 43",
            "text/latex": "43",
            "text/markdown": "43",
            "text/html": "43"
          },
          "metadata": {}
        }
      ]
    },
    {
      "metadata": {
        "trusted": true
      },
      "cell_type": "code",
      "source": "range(vect)",
      "execution_count": 93,
      "outputs": [
        {
          "output_type": "display_data",
          "data": {
            "text/plain": "[1]  1 43",
            "text/latex": "\\begin{enumerate*}\n\\item 1\n\\item 43\n\\end{enumerate*}\n",
            "text/markdown": "1. 1\n2. 43\n\n\n",
            "text/html": "<ol class=list-inline>\n\t<li>1</li>\n\t<li>43</li>\n</ol>\n"
          },
          "metadata": {}
        }
      ]
    },
    {
      "metadata": {},
      "cell_type": "markdown",
      "source": "__pretty__ --Compute a sequence of about n+1 equally spaced ‘round’ values which cover the range of the values in x. The values are chosen so that they are 1, 2 or 5 times a power of 10."
    },
    {
      "metadata": {
        "trusted": true
      },
      "cell_type": "code",
      "source": "x<-pretty(c(-3,3),30)\nx",
      "execution_count": 94,
      "outputs": [
        {
          "output_type": "display_data",
          "data": {
            "text/plain": " [1] -3.0 -2.8 -2.6 -2.4 -2.2 -2.0 -1.8 -1.6 -1.4 -1.2 -1.0 -0.8 -0.6 -0.4 -0.2\n[16]  0.0  0.2  0.4  0.6  0.8  1.0  1.2  1.4  1.6  1.8  2.0  2.2  2.4  2.6  2.8\n[31]  3.0",
            "text/latex": "\\begin{enumerate*}\n\\item -3\n\\item -2.8\n\\item -2.6\n\\item -2.4\n\\item -2.2\n\\item -2\n\\item -1.8\n\\item -1.6\n\\item -1.4\n\\item -1.2\n\\item -1\n\\item -0.8\n\\item -0.6\n\\item -0.4\n\\item -0.2\n\\item 0\n\\item 0.2\n\\item 0.4\n\\item 0.6\n\\item 0.8\n\\item 1\n\\item 1.2\n\\item 1.4\n\\item 1.6\n\\item 1.8\n\\item 2\n\\item 2.2\n\\item 2.4\n\\item 2.6\n\\item 2.8\n\\item 3\n\\end{enumerate*}\n",
            "text/markdown": "1. -3\n2. -2.8\n3. -2.6\n4. -2.4\n5. -2.2\n6. -2\n7. -1.8\n8. -1.6\n9. -1.4\n10. -1.2\n11. -1\n12. -0.8\n13. -0.6\n14. -0.4\n15. -0.2\n16. 0\n17. 0.2\n18. 0.4\n19. 0.6\n20. 0.8\n21. 1\n22. 1.2\n23. 1.4\n24. 1.6\n25. 1.8\n26. 2\n27. 2.2\n28. 2.4\n29. 2.6\n30. 2.8\n31. 3\n\n\n",
            "text/html": "<ol class=list-inline>\n\t<li>-3</li>\n\t<li>-2.8</li>\n\t<li>-2.6</li>\n\t<li>-2.4</li>\n\t<li>-2.2</li>\n\t<li>-2</li>\n\t<li>-1.8</li>\n\t<li>-1.6</li>\n\t<li>-1.4</li>\n\t<li>-1.2</li>\n\t<li>-1</li>\n\t<li>-0.8</li>\n\t<li>-0.6</li>\n\t<li>-0.4</li>\n\t<li>-0.2</li>\n\t<li>0</li>\n\t<li>0.2</li>\n\t<li>0.4</li>\n\t<li>0.6</li>\n\t<li>0.8</li>\n\t<li>1</li>\n\t<li>1.2</li>\n\t<li>1.4</li>\n\t<li>1.6</li>\n\t<li>1.8</li>\n\t<li>2</li>\n\t<li>2.2</li>\n\t<li>2.4</li>\n\t<li>2.6</li>\n\t<li>2.8</li>\n\t<li>3</li>\n</ol>\n"
          },
          "metadata": {}
        }
      ]
    },
    {
      "metadata": {
        "trusted": true
      },
      "cell_type": "code",
      "source": "y<-dnorm(x)\ny",
      "execution_count": 95,
      "outputs": [
        {
          "output_type": "display_data",
          "data": {
            "text/plain": " [1] 0.004431848 0.007915452 0.013582969 0.022394530 0.035474593 0.053990967\n [7] 0.078950158 0.110920835 0.149727466 0.194186055 0.241970725 0.289691553\n[13] 0.333224603 0.368270140 0.391042694 0.398942280 0.391042694 0.368270140\n[19] 0.333224603 0.289691553 0.241970725 0.194186055 0.149727466 0.110920835\n[25] 0.078950158 0.053990967 0.035474593 0.022394530 0.013582969 0.007915452\n[31] 0.004431848",
            "text/latex": "\\begin{enumerate*}\n\\item 0.00443184841193801\n\\item 0.00791545158297997\n\\item 0.0135829692336856\n\\item 0.0223945302948429\n\\item 0.0354745928462314\n\\item 0.0539909665131881\n\\item 0.0789501583008942\n\\item 0.110920834679456\n\\item 0.149727465635745\n\\item 0.194186054983213\n\\item 0.241970724519143\n\\item 0.289691552761483\n\\item 0.3332246028918\n\\item 0.368270140303323\n\\item 0.391042693975456\n\\item 0.398942280401433\n\\item 0.391042693975456\n\\item 0.368270140303323\n\\item 0.3332246028918\n\\item 0.289691552761483\n\\item 0.241970724519143\n\\item 0.194186054983213\n\\item 0.149727465635745\n\\item 0.110920834679455\n\\item 0.0789501583008941\n\\item 0.0539909665131881\n\\item 0.0354745928462314\n\\item 0.0223945302948429\n\\item 0.0135829692336856\n\\item 0.00791545158297995\n\\item 0.00443184841193801\n\\end{enumerate*}\n",
            "text/markdown": "1. 0.00443184841193801\n2. 0.00791545158297997\n3. 0.0135829692336856\n4. 0.0223945302948429\n5. 0.0354745928462314\n6. 0.0539909665131881\n7. 0.0789501583008942\n8. 0.110920834679456\n9. 0.149727465635745\n10. 0.194186054983213\n11. 0.241970724519143\n12. 0.289691552761483\n13. 0.3332246028918\n14. 0.368270140303323\n15. 0.391042693975456\n16. 0.398942280401433\n17. 0.391042693975456\n18. 0.368270140303323\n19. 0.3332246028918\n20. 0.289691552761483\n21. 0.241970724519143\n22. 0.194186054983213\n23. 0.149727465635745\n24. 0.110920834679455\n25. 0.0789501583008941\n26. 0.0539909665131881\n27. 0.0354745928462314\n28. 0.0223945302948429\n29. 0.0135829692336856\n30. 0.00791545158297995\n31. 0.00443184841193801\n\n\n",
            "text/html": "<ol class=list-inline>\n\t<li>0.00443184841193801</li>\n\t<li>0.00791545158297997</li>\n\t<li>0.0135829692336856</li>\n\t<li>0.0223945302948429</li>\n\t<li>0.0354745928462314</li>\n\t<li>0.0539909665131881</li>\n\t<li>0.0789501583008942</li>\n\t<li>0.110920834679456</li>\n\t<li>0.149727465635745</li>\n\t<li>0.194186054983213</li>\n\t<li>0.241970724519143</li>\n\t<li>0.289691552761483</li>\n\t<li>0.3332246028918</li>\n\t<li>0.368270140303323</li>\n\t<li>0.391042693975456</li>\n\t<li>0.398942280401433</li>\n\t<li>0.391042693975456</li>\n\t<li>0.368270140303323</li>\n\t<li>0.3332246028918</li>\n\t<li>0.289691552761483</li>\n\t<li>0.241970724519143</li>\n\t<li>0.194186054983213</li>\n\t<li>0.149727465635745</li>\n\t<li>0.110920834679455</li>\n\t<li>0.0789501583008941</li>\n\t<li>0.0539909665131881</li>\n\t<li>0.0354745928462314</li>\n\t<li>0.0223945302948429</li>\n\t<li>0.0135829692336856</li>\n\t<li>0.00791545158297995</li>\n\t<li>0.00443184841193801</li>\n</ol>\n"
          },
          "metadata": {}
        }
      ]
    },
    {
      "metadata": {
        "trusted": true
      },
      "cell_type": "code",
      "source": "plot(x,y,type='l',xlab='Normal Deviate',ylab='Density',yaxs='i')",
      "execution_count": 96,
      "outputs": [
        {
          "output_type": "display_data",
          "data": {
            "image/png": "",
            "image/jpeg": "[encoded data removed]",
            "image/svg+xml": "<?xml version=\"1.0\" encoding=\"UTF-8\"?>\n<svg xmlns=\"http://www.w3.org/2000/svg\" xmlns:xlink=\"http://www.w3.org/1999/xlink\" width=\"288pt\" height=\"216pt\" viewBox=\"0 0 288 216\" version=\"1.1\">\n<defs>\n<g>\n<symbol overflow=\"visible\" id=\"glyph0-0\">\n<path style=\"stroke:none;\" d=\"\"/>\n</symbol>\n<symbol overflow=\"visible\" id=\"glyph0-1\">\n<path style=\"stroke:none;\" d=\"M 3.671875 -3.125 L 3.671875 -4.15625 L 0.4375 -4.15625 L 0.4375 -3 L 3.671875 -3 Z M 3.671875 -3.125 \"/>\n</symbol>\n<symbol overflow=\"visible\" id=\"glyph0-2\">\n<path style=\"stroke:none;\" d=\"M 6.453125 -2.703125 C 6.453125 -3.78125 5.890625 -4.53125 4.828125 -4.90625 L 4.828125 -4.640625 C 5.65625 -4.96875 6.1875 -5.65625 6.1875 -6.546875 C 6.1875 -8.078125 5.046875 -9.125 3.359375 -9.125 C 1.578125 -9.125 0.484375 -8.015625 0.453125 -6 L 1.8125 -6 C 1.84375 -7.4375 2.25 -7.90625 3.375 -7.90625 C 4.34375 -7.90625 4.796875 -7.453125 4.796875 -6.515625 C 4.796875 -5.5625 4.53125 -5.3125 2.625 -5.3125 L 2.625 -4.125 L 3.359375 -4.125 C 4.578125 -4.125 5.0625 -3.671875 5.0625 -2.6875 C 5.0625 -1.578125 4.515625 -1.046875 3.359375 -1.046875 C 2.15625 -1.046875 1.703125 -1.515625 1.609375 -2.9375 L 0.25 -2.9375 C 0.40625 -0.828125 1.515625 0.1875 3.328125 0.1875 C 5.15625 0.1875 6.453125 -1.03125 6.453125 -2.703125 Z M 6.453125 -2.703125 \"/>\n</symbol>\n<symbol overflow=\"visible\" id=\"glyph0-3\">\n<path style=\"stroke:none;\" d=\"M 6.515625 -6.390625 C 6.515625 -7.890625 5.21875 -9.125 3.546875 -9.125 C 1.734375 -9.125 0.546875 -8.0625 0.484375 -5.78125 L 1.84375 -5.78125 C 1.9375 -7.40625 2.421875 -7.90625 3.515625 -7.90625 C 4.515625 -7.90625 5.125 -7.3125 5.125 -6.359375 C 5.125 -5.65625 4.75 -5.15625 3.96875 -4.703125 L 2.8125 -4.046875 C 0.96875 -3 0.390625 -2.078125 0.28125 0 L 6.453125 0 L 6.453125 -1.34375 L 1.8125 -1.34375 C 1.90625 -1.9375 2.265625 -2.3125 3.34375 -2.953125 L 4.59375 -3.625 C 5.84375 -4.28125 6.515625 -5.296875 6.515625 -6.390625 Z M 6.515625 -6.390625 \"/>\n</symbol>\n<symbol overflow=\"visible\" id=\"glyph0-4\">\n<path style=\"stroke:none;\" d=\"M 4.46875 -0.125 L 4.46875 -9.125 L 3.515625 -9.125 C 3.09375 -7.625 2.96875 -7.578125 1.140625 -7.34375 L 1.140625 -6.3125 L 3.09375 -6.3125 L 3.09375 0 L 4.46875 0 Z M 4.46875 -0.125 \"/>\n</symbol>\n<symbol overflow=\"visible\" id=\"glyph0-5\">\n<path style=\"stroke:none;\" d=\"M 6.46875 -4.390625 C 6.46875 -7.46875 5.359375 -9.125 3.4375 -9.125 C 1.53125 -9.125 0.40625 -7.4375 0.40625 -4.46875 C 0.40625 -1.46875 1.53125 0.1875 3.4375 0.1875 C 5.3125 0.1875 6.46875 -1.46875 6.46875 -4.390625 Z M 5.078125 -4.484375 C 5.078125 -1.96875 4.640625 -0.984375 3.40625 -0.984375 C 2.25 -0.984375 1.78125 -2.03125 1.78125 -4.453125 C 1.78125 -6.875 2.25 -7.890625 3.4375 -7.890625 C 4.625 -7.890625 5.078125 -6.859375 5.078125 -4.484375 Z M 5.078125 -4.484375 \"/>\n</symbol>\n<symbol overflow=\"visible\" id=\"glyph0-6\">\n<path style=\"stroke:none;\" d=\"M 8.203125 -0.125 L 8.203125 -9.375 L 6.84375 -9.375 L 6.84375 -1.78125 L 7.0625 -1.875 L 2.28125 -9.375 L 0.8125 -9.375 L 0.8125 0 L 2.171875 0 L 2.171875 -7.515625 L 1.953125 -7.421875 L 6.6875 0 L 8.203125 0 Z M 8.203125 -0.125 \"/>\n</symbol>\n<symbol overflow=\"visible\" id=\"glyph0-7\">\n<path style=\"stroke:none;\" d=\"M 6.5 -3.34375 C 6.5 -5.609375 5.28125 -7 3.40625 -7 C 1.5625 -7 0.3125 -5.59375 0.3125 -3.40625 C 0.3125 -1.203125 1.546875 0.1875 3.40625 0.1875 C 5.25 0.1875 6.5 -1.203125 6.5 -3.34375 Z M 5.15625 -3.359375 C 5.15625 -1.828125 4.5625 -1.03125 3.40625 -1.03125 C 2.25 -1.03125 1.65625 -1.8125 1.65625 -3.40625 C 1.65625 -4.96875 2.25 -5.78125 3.40625 -5.78125 C 4.59375 -5.78125 5.15625 -4.984375 5.15625 -3.359375 Z M 5.15625 -3.359375 \"/>\n</symbol>\n<symbol overflow=\"visible\" id=\"glyph0-8\">\n<path style=\"stroke:none;\" d=\"M 4.140625 -5.765625 L 4.140625 -6.9375 C 3.84375 -6.984375 3.75 -7 3.609375 -7 C 2.9375 -7 2.328125 -6.546875 1.71875 -5.578125 L 1.953125 -5.484375 L 1.953125 -6.8125 L 0.734375 -6.8125 L 0.734375 0 L 2.03125 0 L 2.03125 -3.53125 C 2.03125 -5 2.40625 -5.609375 4.140625 -5.640625 Z M 4.140625 -5.765625 \"/>\n</symbol>\n<symbol overflow=\"visible\" id=\"glyph0-9\">\n<path style=\"stroke:none;\" d=\"M 9.625 -0.125 L 9.625 -5.03125 C 9.625 -6.21875 8.84375 -7 7.625 -7 C 6.75 -7 6.125 -6.6875 5.625 -6.09375 C 5.3125 -6.65625 4.703125 -7 3.84375 -7 C 2.96875 -7 2.296875 -6.625 1.734375 -5.84375 L 1.96875 -5.75 L 1.96875 -6.8125 L 0.75 -6.8125 L 0.75 0 L 2.046875 0 L 2.046875 -4.234375 C 2.046875 -5.1875 2.609375 -5.828125 3.46875 -5.828125 C 4.234375 -5.828125 4.53125 -5.46875 4.53125 -4.640625 L 4.53125 0 L 5.84375 0 L 5.84375 -4.234375 C 5.84375 -5.1875 6.40625 -5.828125 7.265625 -5.828125 C 8.03125 -5.828125 8.328125 -5.46875 8.328125 -4.640625 L 8.328125 0 L 9.625 0 Z M 9.625 -0.125 \"/>\n</symbol>\n<symbol overflow=\"visible\" id=\"glyph0-10\">\n<path style=\"stroke:none;\" d=\"M 6.8125 -0.15625 L 6.8125 -1.09375 C 6.578125 -1.046875 6.53125 -1.046875 6.46875 -1.046875 C 6.09375 -1.046875 6.03125 -1.09375 6.03125 -1.421875 L 6.03125 -5.078125 C 6.03125 -6.234375 5.046875 -7 3.4375 -7 C 1.84375 -7 0.734375 -6.25 0.65625 -4.609375 L 1.96875 -4.609375 C 2.078125 -5.53125 2.421875 -5.78125 3.40625 -5.78125 C 4.34375 -5.78125 4.71875 -5.546875 4.71875 -4.921875 L 4.71875 -4.65625 C 4.71875 -4.21875 4.59375 -4.15625 3.78125 -4.0625 C 2.296875 -3.875 2.078125 -3.828125 1.671875 -3.65625 C 0.90625 -3.34375 0.390625 -2.625 0.390625 -1.828125 C 0.390625 -0.640625 1.34375 0.1875 2.671875 0.1875 C 3.515625 0.1875 4.40625 -0.203125 4.828125 -0.640625 C 4.875 -0.40625 5.46875 0.09375 5.96875 0.09375 C 6.1875 0.09375 6.34375 0.0625 6.8125 -0.046875 Z M 4.71875 -2.390625 C 4.71875 -1.453125 3.90625 -0.984375 2.90625 -0.984375 C 2.09375 -0.984375 1.734375 -1.140625 1.734375 -1.84375 C 1.734375 -2.53125 2.078125 -2.71875 3.1875 -2.875 C 4.28125 -3.03125 4.515625 -3.078125 4.71875 -3.171875 Z M 4.71875 -2.390625 \"/>\n</symbol>\n<symbol overflow=\"visible\" id=\"glyph0-11\">\n<path style=\"stroke:none;\" d=\"M 2.015625 -0.125 L 2.015625 -9.375 L 0.71875 -9.375 L 0.71875 0 L 2.015625 0 Z M 2.015625 -0.125 \"/>\n</symbol>\n<symbol overflow=\"visible\" id=\"glyph0-12\">\n<path style=\"stroke:none;\" d=\"\"/>\n</symbol>\n<symbol overflow=\"visible\" id=\"glyph0-13\">\n<path style=\"stroke:none;\" d=\"M 8.46875 -4.6875 C 8.46875 -7.515625 6.9375 -9.375 4.625 -9.375 L 0.96875 -9.375 L 0.96875 0 L 4.625 0 C 6.921875 0 8.46875 -1.84375 8.46875 -4.6875 Z M 7.03125 -4.671875 C 7.03125 -2.375 6.21875 -1.28125 4.421875 -1.28125 L 2.40625 -1.28125 L 2.40625 -8.09375 L 4.421875 -8.09375 C 6.21875 -8.09375 7.03125 -7 7.03125 -4.671875 Z M 7.03125 -4.671875 \"/>\n</symbol>\n<symbol overflow=\"visible\" id=\"glyph0-14\">\n<path style=\"stroke:none;\" d=\"M 6.53125 -3.09375 C 6.53125 -4.046875 6.46875 -4.65625 6.28125 -5.140625 C 5.84375 -6.21875 4.71875 -7 3.5 -7 C 1.671875 -7 0.359375 -5.515625 0.359375 -3.359375 C 0.359375 -1.21875 1.640625 0.1875 3.46875 0.1875 C 4.96875 0.1875 6.140625 -0.78125 6.421875 -2.25 L 5.125 -2.25 C 4.796875 -1.25 4.34375 -1.03125 3.515625 -1.03125 C 2.421875 -1.03125 1.734375 -1.59375 1.71875 -2.96875 L 6.53125 -2.96875 Z M 5.390625 -3.9375 C 5.390625 -3.9375 5.203125 -4.0625 5.21875 -4.09375 L 1.75 -4.09375 C 1.828125 -5.109375 2.4375 -5.78125 3.484375 -5.78125 C 4.515625 -5.78125 5.15625 -5.046875 5.15625 -4.03125 Z M 5.390625 -3.9375 \"/>\n</symbol>\n<symbol overflow=\"visible\" id=\"glyph0-15\">\n<path style=\"stroke:none;\" d=\"M 6.078125 -6.8125 L 4.8125 -6.8125 L 2.90625 -1.359375 L 3.171875 -1.359375 L 1.390625 -6.8125 L -0.0625 -6.8125 L 2.34375 0 L 3.640625 0 L 6.25 -6.8125 Z M 6.078125 -6.8125 \"/>\n</symbol>\n<symbol overflow=\"visible\" id=\"glyph0-16\">\n<path style=\"stroke:none;\" d=\"M 2.03125 -0.125 L 2.03125 -6.8125 L 0.734375 -6.8125 L 0.734375 0 L 2.03125 0 Z M 2.171875 -7.65625 L 2.171875 -9.09375 L 0.609375 -9.09375 L 0.609375 -7.53125 L 2.171875 -7.53125 Z M 2.171875 -7.65625 \"/>\n</symbol>\n<symbol overflow=\"visible\" id=\"glyph0-17\">\n<path style=\"stroke:none;\" d=\"M 3.296875 -0.125 L 3.296875 -1.171875 C 3.03125 -1.09375 2.875 -1.09375 2.671875 -1.09375 C 2.21875 -1.09375 2.21875 -1.078125 2.21875 -1.53125 L 2.21875 -5.703125 L 3.296875 -5.703125 L 3.296875 -6.8125 L 2.21875 -6.8125 L 2.21875 -8.609375 L 0.921875 -8.609375 L 0.921875 -6.8125 L 0.03125 -6.8125 L 0.03125 -5.703125 L 0.921875 -5.703125 L 0.921875 -1.078125 C 0.921875 -0.40625 1.515625 0.09375 2.328125 0.09375 C 2.578125 0.09375 2.828125 0.0625 3.296875 -0.015625 Z M 3.296875 -0.125 \"/>\n</symbol>\n<symbol overflow=\"visible\" id=\"glyph1-0\">\n<path style=\"stroke:none;\" d=\"\"/>\n</symbol>\n<symbol overflow=\"visible\" id=\"glyph1-1\">\n<path style=\"stroke:none;\" d=\"M -4.390625 -6.46875 C -7.46875 -6.46875 -9.125 -5.359375 -9.125 -3.4375 C -9.125 -1.53125 -7.4375 -0.40625 -4.46875 -0.40625 C -1.46875 -0.40625 0.1875 -1.53125 0.1875 -3.4375 C 0.1875 -5.3125 -1.46875 -6.46875 -4.390625 -6.46875 Z M -4.484375 -5.078125 C -1.96875 -5.078125 -0.984375 -4.640625 -0.984375 -3.40625 C -0.984375 -2.25 -2.03125 -1.78125 -4.453125 -1.78125 C -6.875 -1.78125 -7.890625 -2.25 -7.890625 -3.4375 C -7.890625 -4.625 -6.859375 -5.078125 -4.484375 -5.078125 Z M -4.484375 -5.078125 \"/>\n</symbol>\n<symbol overflow=\"visible\" id=\"glyph1-2\">\n<path style=\"stroke:none;\" d=\"M -0.125 -2.515625 L -1.5625 -2.515625 L -1.5625 -0.953125 L 0 -0.953125 L 0 -2.515625 Z M -0.125 -2.515625 \"/>\n</symbol>\n<symbol overflow=\"visible\" id=\"glyph1-3\">\n<path style=\"stroke:none;\" d=\"M -0.125 -4.46875 L -9.125 -4.46875 L -9.125 -3.515625 C -7.625 -3.09375 -7.578125 -2.96875 -7.34375 -1.140625 L -6.3125 -1.140625 L -6.3125 -3.09375 L 0 -3.09375 L 0 -4.46875 Z M -0.125 -4.46875 \"/>\n</symbol>\n<symbol overflow=\"visible\" id=\"glyph1-4\">\n<path style=\"stroke:none;\" d=\"M -2.703125 -6.453125 C -3.78125 -6.453125 -4.53125 -5.890625 -4.90625 -4.828125 L -4.640625 -4.828125 C -4.96875 -5.65625 -5.65625 -6.1875 -6.546875 -6.1875 C -8.078125 -6.1875 -9.125 -5.046875 -9.125 -3.359375 C -9.125 -1.578125 -8.015625 -0.484375 -6 -0.453125 L -6 -1.8125 C -7.4375 -1.84375 -7.90625 -2.25 -7.90625 -3.375 C -7.90625 -4.34375 -7.453125 -4.796875 -6.515625 -4.796875 C -5.5625 -4.796875 -5.3125 -4.53125 -5.3125 -2.625 L -4.125 -2.625 L -4.125 -3.359375 C -4.125 -4.578125 -3.671875 -5.0625 -2.6875 -5.0625 C -1.578125 -5.0625 -1.046875 -4.515625 -1.046875 -3.359375 C -1.046875 -2.15625 -1.515625 -1.703125 -2.9375 -1.609375 L -2.9375 -0.25 C -0.828125 -0.40625 0.1875 -1.515625 0.1875 -3.328125 C 0.1875 -5.15625 -1.03125 -6.453125 -2.703125 -6.453125 Z M -2.703125 -6.453125 \"/>\n</symbol>\n<symbol overflow=\"visible\" id=\"glyph1-5\">\n<path style=\"stroke:none;\" d=\"M -4.6875 -8.46875 C -7.515625 -8.46875 -9.375 -6.9375 -9.375 -4.625 L -9.375 -0.96875 L 0 -0.96875 L 0 -4.625 C 0 -6.921875 -1.84375 -8.46875 -4.6875 -8.46875 Z M -4.671875 -7.03125 C -2.375 -7.03125 -1.28125 -6.21875 -1.28125 -4.421875 L -1.28125 -2.40625 L -8.09375 -2.40625 L -8.09375 -4.421875 C -8.09375 -6.21875 -7 -7.03125 -4.671875 -7.03125 Z M -4.671875 -7.03125 \"/>\n</symbol>\n<symbol overflow=\"visible\" id=\"glyph1-6\">\n<path style=\"stroke:none;\" d=\"M -3.09375 -6.53125 C -4.046875 -6.53125 -4.65625 -6.46875 -5.140625 -6.28125 C -6.21875 -5.84375 -7 -4.71875 -7 -3.5 C -7 -1.671875 -5.515625 -0.359375 -3.359375 -0.359375 C -1.21875 -0.359375 0.1875 -1.640625 0.1875 -3.46875 C 0.1875 -4.96875 -0.78125 -6.140625 -2.25 -6.421875 L -2.25 -5.125 C -1.25 -4.796875 -1.03125 -4.34375 -1.03125 -3.515625 C -1.03125 -2.421875 -1.59375 -1.734375 -2.96875 -1.71875 L -2.96875 -6.53125 Z M -3.9375 -5.390625 C -3.9375 -5.390625 -4.0625 -5.203125 -4.09375 -5.21875 L -4.09375 -1.75 C -5.109375 -1.828125 -5.78125 -2.4375 -5.78125 -3.484375 C -5.78125 -4.515625 -5.046875 -5.15625 -4.03125 -5.15625 Z M -3.9375 -5.390625 \"/>\n</symbol>\n<symbol overflow=\"visible\" id=\"glyph1-7\">\n<path style=\"stroke:none;\" d=\"M -0.125 -6.21875 L -5.078125 -6.21875 C -6.15625 -6.21875 -7 -5.28125 -7 -4.015625 C -7 -3.03125 -6.578125 -2.3125 -5.65625 -1.734375 L -5.578125 -1.96875 L -6.8125 -1.96875 L -6.8125 -0.734375 L 0 -0.734375 L 0 -2.03125 L -3.734375 -2.03125 C -5.078125 -2.03125 -5.828125 -2.640625 -5.828125 -3.703125 C -5.828125 -4.53125 -5.453125 -4.90625 -4.65625 -4.90625 L 0 -4.90625 L 0 -6.21875 Z M -0.125 -6.21875 \"/>\n</symbol>\n<symbol overflow=\"visible\" id=\"glyph1-8\">\n<path style=\"stroke:none;\" d=\"M -1.96875 -5.859375 C -2.9375 -5.859375 -3.5625 -5.1875 -3.875 -3.890625 L -4.109375 -2.890625 C -4.3125 -2.03125 -4.453125 -1.796875 -4.90625 -1.796875 C -5.515625 -1.796875 -5.78125 -2.21875 -5.78125 -3.0625 C -5.78125 -3.90625 -5.53125 -4.21875 -4.71875 -4.234375 L -4.71875 -5.59375 C -6.140625 -5.59375 -7 -4.609375 -7 -3.09375 C -7 -1.578125 -6.078125 -0.453125 -4.859375 -0.453125 C -3.84375 -0.453125 -3.21875 -1.109375 -2.84375 -2.65625 L -2.609375 -3.640625 C -2.4375 -4.359375 -2.34375 -4.515625 -1.875 -4.515625 C -1.265625 -4.515625 -1.03125 -4.03125 -1.03125 -3.125 C -1.03125 -2.1875 -1.125 -1.78125 -2.265625 -1.640625 L -2.265625 -0.28125 C -0.609375 -0.34375 0.1875 -1.328125 0.1875 -3.03125 C 0.1875 -4.6875 -0.703125 -5.859375 -1.96875 -5.859375 Z M -1.96875 -5.859375 \"/>\n</symbol>\n<symbol overflow=\"visible\" id=\"glyph1-9\">\n<path style=\"stroke:none;\" d=\"M -0.125 -2.03125 L -6.8125 -2.03125 L -6.8125 -0.734375 L 0 -0.734375 L 0 -2.03125 Z M -7.65625 -2.171875 L -9.09375 -2.171875 L -9.09375 -0.609375 L -7.53125 -0.609375 L -7.53125 -2.171875 Z M -7.65625 -2.171875 \"/>\n</symbol>\n<symbol overflow=\"visible\" id=\"glyph1-10\">\n<path style=\"stroke:none;\" d=\"M -0.125 -3.296875 L -1.171875 -3.296875 C -1.09375 -3.03125 -1.09375 -2.875 -1.09375 -2.671875 C -1.09375 -2.21875 -1.078125 -2.21875 -1.53125 -2.21875 L -5.703125 -2.21875 L -5.703125 -3.296875 L -6.8125 -3.296875 L -6.8125 -2.21875 L -8.609375 -2.21875 L -8.609375 -0.921875 L -6.8125 -0.921875 L -6.8125 -0.03125 L -5.703125 -0.03125 L -5.703125 -0.921875 L -1.078125 -0.921875 C -0.40625 -0.921875 0.09375 -1.515625 0.09375 -2.328125 C 0.09375 -2.578125 0.0625 -2.828125 -0.015625 -3.296875 Z M -0.125 -3.296875 \"/>\n</symbol>\n<symbol overflow=\"visible\" id=\"glyph1-11\">\n<path style=\"stroke:none;\" d=\"M -6.8125 -5.96875 L -6.8125 -4.765625 L -1.578125 -2.90625 L -1.578125 -3.15625 L -6.8125 -1.453125 L -6.8125 -0.0625 L -0.09375 -2.328125 L 0.9375 -1.921875 C 1.40625 -1.75 1.4375 -1.671875 1.4375 -1.21875 C 1.4375 -1.078125 1.40625 -0.90625 1.34375 -0.53125 L 2.515625 -0.53125 C 2.640625 -0.78125 2.71875 -1.09375 2.71875 -1.375 C 2.71875 -2.109375 2.1875 -2.84375 1.25 -3.1875 L -6.8125 -6.15625 Z M -6.8125 -5.96875 \"/>\n</symbol>\n</g>\n<clipPath id=\"clip1\">\n  <path d=\"M 65 59.039062 L 251 59.039062 L 251 143.558594 L 65 143.558594 Z M 65 59.039062 \"/>\n</clipPath>\n</defs>\n<g id=\"surface286\">\n<rect x=\"0\" y=\"0\" width=\"288\" height=\"216\" style=\"fill:rgb(100%,100%,100%);fill-opacity:1;stroke:none;\"/>\n<g clip-path=\"url(#clip1)\" clip-rule=\"nonzero\">\n<path style=\"fill:none;stroke-width:1;stroke-linecap:round;stroke-linejoin:round;stroke:rgb(0%,0%,0%);stroke-opacity:1;stroke-miterlimit:10;\" d=\"M 66.398438 142.558594 L 72.535156 141.824219 L 78.667969 140.621094 L 84.800781 138.757812 L 90.933594 135.988281 L 97.066406 132.066406 L 103.199219 126.785156 L 109.332031 120.015625 L 115.464844 111.800781 L 121.601562 102.386719 L 127.734375 92.273438 L 133.867188 82.167969 L 140 72.953125 L 146.132812 65.535156 L 152.265625 60.710938 L 158.398438 59.039062 L 164.535156 60.710938 L 170.667969 65.535156 L 176.800781 72.953125 L 182.933594 82.167969 L 189.066406 92.273438 L 195.199219 102.386719 L 201.332031 111.800781 L 207.464844 120.015625 L 213.601562 126.785156 L 219.734375 132.066406 L 225.867188 135.988281 L 232 138.757812 L 238.132812 140.621094 L 244.265625 141.824219 L 250.398438 142.558594 \"/>\n</g>\n<path style=\"fill:none;stroke-width:1;stroke-linecap:round;stroke-linejoin:round;stroke:rgb(0%,0%,0%);stroke-opacity:1;stroke-miterlimit:10;\" d=\"M 66.398438 142.558594 L 250.398438 142.558594 \"/>\n<path style=\"fill:none;stroke-width:1;stroke-linecap:round;stroke-linejoin:round;stroke:rgb(0%,0%,0%);stroke-opacity:1;stroke-miterlimit:10;\" d=\"M 66.398438 142.558594 L 66.398438 149.761719 \"/>\n<path style=\"fill:none;stroke-width:1;stroke-linecap:round;stroke-linejoin:round;stroke:rgb(0%,0%,0%);stroke-opacity:1;stroke-miterlimit:10;\" d=\"M 97.066406 142.558594 L 97.066406 149.761719 \"/>\n<path style=\"fill:none;stroke-width:1;stroke-linecap:round;stroke-linejoin:round;stroke:rgb(0%,0%,0%);stroke-opacity:1;stroke-miterlimit:10;\" d=\"M 127.734375 142.558594 L 127.734375 149.761719 \"/>\n<path style=\"fill:none;stroke-width:1;stroke-linecap:round;stroke-linejoin:round;stroke:rgb(0%,0%,0%);stroke-opacity:1;stroke-miterlimit:10;\" d=\"M 158.398438 142.558594 L 158.398438 149.761719 \"/>\n<path style=\"fill:none;stroke-width:1;stroke-linecap:round;stroke-linejoin:round;stroke:rgb(0%,0%,0%);stroke-opacity:1;stroke-miterlimit:10;\" d=\"M 189.066406 142.558594 L 189.066406 149.761719 \"/>\n<path style=\"fill:none;stroke-width:1;stroke-linecap:round;stroke-linejoin:round;stroke:rgb(0%,0%,0%);stroke-opacity:1;stroke-miterlimit:10;\" d=\"M 219.734375 142.558594 L 219.734375 149.761719 \"/>\n<path style=\"fill:none;stroke-width:1;stroke-linecap:round;stroke-linejoin:round;stroke:rgb(0%,0%,0%);stroke-opacity:1;stroke-miterlimit:10;\" d=\"M 250.398438 142.558594 L 250.398438 149.761719 \"/>\n<g style=\"fill:rgb(0%,0%,0%);fill-opacity:1;\">\n  <use xlink:href=\"#glyph0-1\" x=\"60.84375\" y=\"169.921875\"/>\n  <use xlink:href=\"#glyph0-2\" x=\"65.006271\" y=\"169.921875\"/>\n</g>\n<g style=\"fill:rgb(0%,0%,0%);fill-opacity:1;\">\n  <use xlink:href=\"#glyph0-1\" x=\"91.511719\" y=\"169.921875\"/>\n  <use xlink:href=\"#glyph0-3\" x=\"95.67424\" y=\"169.921875\"/>\n</g>\n<g style=\"fill:rgb(0%,0%,0%);fill-opacity:1;\">\n  <use xlink:href=\"#glyph0-1\" x=\"122.179688\" y=\"169.921875\"/>\n  <use xlink:href=\"#glyph0-4\" x=\"126.342209\" y=\"169.921875\"/>\n</g>\n<g style=\"fill:rgb(0%,0%,0%);fill-opacity:1;\">\n  <use xlink:href=\"#glyph0-5\" x=\"154.921875\" y=\"169.921875\"/>\n</g>\n<g style=\"fill:rgb(0%,0%,0%);fill-opacity:1;\">\n  <use xlink:href=\"#glyph0-4\" x=\"185.589844\" y=\"169.921875\"/>\n</g>\n<g style=\"fill:rgb(0%,0%,0%);fill-opacity:1;\">\n  <use xlink:href=\"#glyph0-3\" x=\"216.257812\" y=\"169.921875\"/>\n</g>\n<g style=\"fill:rgb(0%,0%,0%);fill-opacity:1;\">\n  <use xlink:href=\"#glyph0-2\" x=\"246.921875\" y=\"169.921875\"/>\n</g>\n<path style=\"fill:none;stroke-width:1;stroke-linecap:round;stroke-linejoin:round;stroke:rgb(0%,0%,0%);stroke-opacity:1;stroke-miterlimit:10;\" d=\"M 59.039062 122.328125 L 59.039062 79.988281 \"/>\n<path style=\"fill:none;stroke-width:1;stroke-linecap:round;stroke-linejoin:round;stroke:rgb(0%,0%,0%);stroke-opacity:1;stroke-miterlimit:10;\" d=\"M 59.039062 122.328125 L 51.839844 122.328125 \"/>\n<path style=\"fill:none;stroke-width:1;stroke-linecap:round;stroke-linejoin:round;stroke:rgb(0%,0%,0%);stroke-opacity:1;stroke-miterlimit:10;\" d=\"M 59.039062 101.15625 L 51.839844 101.15625 \"/>\n<path style=\"fill:none;stroke-width:1;stroke-linecap:round;stroke-linejoin:round;stroke:rgb(0%,0%,0%);stroke-opacity:1;stroke-miterlimit:10;\" d=\"M 59.039062 79.988281 L 51.839844 79.988281 \"/>\n<g style=\"fill:rgb(0%,0%,0%);fill-opacity:1;\">\n  <use xlink:href=\"#glyph1-1\" x=\"43.199219\" y=\"131.015625\"/>\n  <use xlink:href=\"#glyph1-2\" x=\"43.199219\" y=\"124.065598\"/>\n  <use xlink:href=\"#glyph1-3\" x=\"43.199219\" y=\"120.590591\"/>\n</g>\n<g style=\"fill:rgb(0%,0%,0%);fill-opacity:1;\">\n  <use xlink:href=\"#glyph1-1\" x=\"43.199219\" y=\"88.675781\"/>\n  <use xlink:href=\"#glyph1-2\" x=\"43.199219\" y=\"81.725754\"/>\n  <use xlink:href=\"#glyph1-4\" x=\"43.199219\" y=\"78.250748\"/>\n</g>\n<path style=\"fill:none;stroke-width:1;stroke-linecap:round;stroke-linejoin:round;stroke:rgb(0%,0%,0%);stroke-opacity:1;stroke-miterlimit:10;\" d=\"M 59.039062 142.558594 L 257.761719 142.558594 L 257.761719 59.039062 L 59.039062 59.039062 L 59.039062 142.558594 \"/>\n<g style=\"fill:rgb(0%,0%,0%);fill-opacity:1;\">\n  <use xlink:href=\"#glyph0-6\" x=\"115.335938\" y=\"198.71875\"/>\n  <use xlink:href=\"#glyph0-7\" x=\"124.360977\" y=\"198.71875\"/>\n  <use xlink:href=\"#glyph0-8\" x=\"131.311005\" y=\"198.71875\"/>\n  <use xlink:href=\"#glyph0-9\" x=\"135.473526\" y=\"198.71875\"/>\n  <use xlink:href=\"#glyph0-10\" x=\"145.886063\" y=\"198.71875\"/>\n  <use xlink:href=\"#glyph0-11\" x=\"152.83609\" y=\"198.71875\"/>\n  <use xlink:href=\"#glyph0-12\" x=\"155.611099\" y=\"198.71875\"/>\n  <use xlink:href=\"#glyph0-13\" x=\"159.086105\" y=\"198.71875\"/>\n  <use xlink:href=\"#glyph0-14\" x=\"168.111145\" y=\"198.71875\"/>\n  <use xlink:href=\"#glyph0-15\" x=\"175.061172\" y=\"198.71875\"/>\n  <use xlink:href=\"#glyph0-16\" x=\"181.311203\" y=\"198.71875\"/>\n  <use xlink:href=\"#glyph0-10\" x=\"184.086212\" y=\"198.71875\"/>\n  <use xlink:href=\"#glyph0-17\" x=\"191.03624\" y=\"198.71875\"/>\n  <use xlink:href=\"#glyph0-14\" x=\"194.511246\" y=\"198.71875\"/>\n</g>\n<g style=\"fill:rgb(0%,0%,0%);fill-opacity:1;\">\n  <use xlink:href=\"#glyph1-5\" x=\"14.398438\" y=\"121.636719\"/>\n  <use xlink:href=\"#glyph1-6\" x=\"14.398438\" y=\"112.611679\"/>\n  <use xlink:href=\"#glyph1-7\" x=\"14.398438\" y=\"105.661652\"/>\n  <use xlink:href=\"#glyph1-8\" x=\"14.398438\" y=\"98.711624\"/>\n  <use xlink:href=\"#glyph1-9\" x=\"14.398438\" y=\"92.461594\"/>\n  <use xlink:href=\"#glyph1-10\" x=\"14.398438\" y=\"89.686584\"/>\n  <use xlink:href=\"#glyph1-11\" x=\"14.398438\" y=\"86.211578\"/>\n</g>\n</g>\n</svg>\n"
          },
          "metadata": {
            "image/svg+xml": {
              "isolated": true
            }
          }
        }
      ]
    },
    {
      "metadata": {
        "trusted": true
      },
      "cell_type": "code",
      "source": "### pnorm(q)  --> cumulative normal probability for q (Area under the normal curve to the left of q)\n### qnorm(p)  --> normal quantile (value at the p percentile of normal distribution)\nprint(pnorm(1.96))\nprint(qnorm(.9))   #90th percentile",
      "execution_count": 97,
      "outputs": [
        {
          "output_type": "stream",
          "text": "[1] 0.9750021\n[1] 1.281552\n",
          "name": "stdout"
        }
      ]
    },
    {
      "metadata": {
        "trusted": true
      },
      "cell_type": "code",
      "source": "rnorm(50,m=0,sd=1)   #n random normal deviate with mean m and standard deviation sd.",
      "execution_count": 98,
      "outputs": [
        {
          "output_type": "display_data",
          "data": {
            "text/plain": " [1]  0.54882668  0.18136737 -0.17583922 -0.05952137 -2.04719975  0.17105309\n [7]  1.08853179 -0.28302114 -0.11329045 -0.33451383 -1.03373176 -0.70166002\n[13]  0.42030873 -0.25787295 -2.33727810  0.33258853 -0.46820389 -1.85693848\n[19]  0.86020693  1.44966376 -1.09342891  1.14138284 -0.02796068 -1.95914745\n[25] -1.14942389  0.02756906 -0.74940109  0.13893279 -2.25891001 -1.25443351\n[31] -1.03757108 -1.00630963  0.63646830 -0.87381832 -1.17864453 -2.49328776\n[37]  1.36728413  0.45332260  0.57086451 -1.73966735  1.56789185 -0.99198433\n[43]  0.24056171  0.74559332 -0.43564643  0.75374393  0.96616713 -0.91141716\n[49]  0.90506809  1.42646539",
            "text/latex": "\\begin{enumerate*}\n\\item 0.548826683563626\n\\item 0.18136736651137\n\\item -0.175839223927016\n\\item -0.0595213719739843\n\\item -2.04719974755544\n\\item 0.171053090001659\n\\item 1.08853178609579\n\\item -0.283021137530607\n\\item -0.113290449584374\n\\item -0.334513828655102\n\\item -1.03373175813667\n\\item -0.701660023579501\n\\item 0.420308726208753\n\\item -0.25787295089143\n\\item -2.33727810416274\n\\item 0.332588529073936\n\\item -0.468203885333308\n\\item -1.85693848463431\n\\item 0.860206929520808\n\\item 1.44966376192783\n\\item -1.09342890731109\n\\item 1.14138284230687\n\\item -0.027960680121988\n\\item -1.95914745313201\n\\item -1.14942388942139\n\\item 0.0275690560087891\n\\item -0.749401089429165\n\\item 0.13893279270893\n\\item -2.25891001127442\n\\item -1.25443351259397\n\\item -1.03757107652375\n\\item -1.00630963086773\n\\item 0.636468304955314\n\\item -0.873818322252579\n\\item -1.17864452736954\n\\item -2.49328775669047\n\\item 1.36728413233337\n\\item 0.453322597242303\n\\item 0.570864509381616\n\\item -1.73966735199848\n\\item 1.56789185136796\n\\item -0.991984328608601\n\\item 0.240561711214647\n\\item 0.745593318076477\n\\item -0.435646426862293\n\\item 0.753743926519257\n\\item 0.966167126093538\n\\item -0.911417157732675\n\\item 0.905068091437539\n\\item 1.4264653883679\n\\end{enumerate*}\n",
            "text/markdown": "1. 0.548826683563626\n2. 0.18136736651137\n3. -0.175839223927016\n4. -0.0595213719739843\n5. -2.04719974755544\n6. 0.171053090001659\n7. 1.08853178609579\n8. -0.283021137530607\n9. -0.113290449584374\n10. -0.334513828655102\n11. -1.03373175813667\n12. -0.701660023579501\n13. 0.420308726208753\n14. -0.25787295089143\n15. -2.33727810416274\n16. 0.332588529073936\n17. -0.468203885333308\n18. -1.85693848463431\n19. 0.860206929520808\n20. 1.44966376192783\n21. -1.09342890731109\n22. 1.14138284230687\n23. -0.027960680121988\n24. -1.95914745313201\n25. -1.14942388942139\n26. 0.0275690560087891\n27. -0.749401089429165\n28. 0.13893279270893\n29. -2.25891001127442\n30. -1.25443351259397\n31. -1.03757107652375\n32. -1.00630963086773\n33. 0.636468304955314\n34. -0.873818322252579\n35. -1.17864452736954\n36. -2.49328775669047\n37. 1.36728413233337\n38. 0.453322597242303\n39. 0.570864509381616\n40. -1.73966735199848\n41. 1.56789185136796\n42. -0.991984328608601\n43. 0.240561711214647\n44. 0.745593318076477\n45. -0.435646426862293\n46. 0.753743926519257\n47. 0.966167126093538\n48. -0.911417157732675\n49. 0.905068091437539\n50. 1.4264653883679\n\n\n",
            "text/html": "<ol class=list-inline>\n\t<li>0.548826683563626</li>\n\t<li>0.18136736651137</li>\n\t<li>-0.175839223927016</li>\n\t<li>-0.0595213719739843</li>\n\t<li>-2.04719974755544</li>\n\t<li>0.171053090001659</li>\n\t<li>1.08853178609579</li>\n\t<li>-0.283021137530607</li>\n\t<li>-0.113290449584374</li>\n\t<li>-0.334513828655102</li>\n\t<li>-1.03373175813667</li>\n\t<li>-0.701660023579501</li>\n\t<li>0.420308726208753</li>\n\t<li>-0.25787295089143</li>\n\t<li>-2.33727810416274</li>\n\t<li>0.332588529073936</li>\n\t<li>-0.468203885333308</li>\n\t<li>-1.85693848463431</li>\n\t<li>0.860206929520808</li>\n\t<li>1.44966376192783</li>\n\t<li>-1.09342890731109</li>\n\t<li>1.14138284230687</li>\n\t<li>-0.027960680121988</li>\n\t<li>-1.95914745313201</li>\n\t<li>-1.14942388942139</li>\n\t<li>0.0275690560087891</li>\n\t<li>-0.749401089429165</li>\n\t<li>0.13893279270893</li>\n\t<li>-2.25891001127442</li>\n\t<li>-1.25443351259397</li>\n\t<li>-1.03757107652375</li>\n\t<li>-1.00630963086773</li>\n\t<li>0.636468304955314</li>\n\t<li>-0.873818322252579</li>\n\t<li>-1.17864452736954</li>\n\t<li>-2.49328775669047</li>\n\t<li>1.36728413233337</li>\n\t<li>0.453322597242303</li>\n\t<li>0.570864509381616</li>\n\t<li>-1.73966735199848</li>\n\t<li>1.56789185136796</li>\n\t<li>-0.991984328608601</li>\n\t<li>0.240561711214647</li>\n\t<li>0.745593318076477</li>\n\t<li>-0.435646426862293</li>\n\t<li>0.753743926519257</li>\n\t<li>0.966167126093538</li>\n\t<li>-0.911417157732675</li>\n\t<li>0.905068091437539</li>\n\t<li>1.4264653883679</li>\n</ol>\n"
          },
          "metadata": {}
        }
      ]
    },
    {
      "metadata": {
        "trusted": true
      },
      "cell_type": "markdown",
      "source": "## Character Function:"
    },
    {
      "metadata": {
        "trusted": true
      },
      "cell_type": "code",
      "source": "# tolower()  -- converts string into lower case\nstr = 'Hi Bharath, How r u?'\nlower_Str =tolower(str)\nlower_Str",
      "execution_count": 99,
      "outputs": [
        {
          "output_type": "display_data",
          "data": {
            "text/plain": "[1] \"hi bharath, how r u?\"",
            "text/latex": "'hi bharath, how r u?'",
            "text/markdown": "'hi bharath, how r u?'",
            "text/html": "'hi bharath, how r u?'"
          },
          "metadata": {}
        }
      ]
    },
    {
      "metadata": {
        "trusted": true
      },
      "cell_type": "code",
      "source": "upper_str=toupper(str)\nupper_str",
      "execution_count": 100,
      "outputs": [
        {
          "output_type": "display_data",
          "data": {
            "text/plain": "[1] \"HI BHARATH, HOW R U?\"",
            "text/latex": "'HI BHARATH, HOW R U?'",
            "text/markdown": "'HI BHARATH, HOW R U?'",
            "text/html": "'HI BHARATH, HOW R U?'"
          },
          "metadata": {}
        }
      ]
    },
    {
      "metadata": {
        "trusted": true
      },
      "cell_type": "code",
      "source": "#Substr(X,star=n1,stop=n2): It extract or replace substrings in a character vector. \n# It can also be used to overwrite a part of the character string.\nsub_str=substr(str,3,10)\nsub_str",
      "execution_count": 101,
      "outputs": [
        {
          "output_type": "display_data",
          "data": {
            "text/plain": "[1] \" Bharath\"",
            "text/latex": "' Bharath'",
            "text/markdown": "' Bharath'",
            "text/html": "' Bharath'"
          },
          "metadata": {}
        }
      ]
    },
    {
      "metadata": {
        "trusted": true
      },
      "cell_type": "code",
      "source": "x<-'The&!syntax&!of&!paste&!is&!available!&in the online=help'\nx",
      "execution_count": 102,
      "outputs": [
        {
          "output_type": "display_data",
          "data": {
            "text/plain": "[1] \"The&!syntax&!of&!paste&!is&!available!&in the online=help\"",
            "text/latex": "'The\\&!syntax\\&!of\\&!paste\\&!is\\&!available!\\&in the online=help'",
            "text/markdown": "'The&amp;!syntax&amp;!of&amp;!paste&amp;!is&amp;!available!&amp;in the online=help'",
            "text/html": "'The&amp;!syntax&amp;!of&amp;!paste&amp;!is&amp;!available!&amp;in the online=help'"
          },
          "metadata": {}
        }
      ]
    },
    {
      "metadata": {
        "trusted": true
      },
      "cell_type": "code",
      "source": "strsplit(x,'!')",
      "execution_count": 103,
      "outputs": [
        {
          "output_type": "display_data",
          "data": {
            "text/plain": "[[1]]\n[1] \"The&\"                \"syntax&\"             \"of&\"                \n[4] \"paste&\"              \"is&\"                 \"available\"          \n[7] \"&in the online=help\"\n",
            "text/latex": "\\begin{enumerate}\n\\item \\begin{enumerate*}\n\\item 'The\\&'\n\\item 'syntax\\&'\n\\item 'of\\&'\n\\item 'paste\\&'\n\\item 'is\\&'\n\\item 'available'\n\\item '\\&in the online=help'\n\\end{enumerate*}\n\n\\end{enumerate}\n",
            "text/markdown": "1. 1. 'The&amp;'\n2. 'syntax&amp;'\n3. 'of&amp;'\n4. 'paste&amp;'\n5. 'is&amp;'\n6. 'available'\n7. '&amp;in the online=help'\n\n\n\n\n\n",
            "text/html": "<ol>\n\t<li><ol class=list-inline>\n\t<li>'The&amp;'</li>\n\t<li>'syntax&amp;'</li>\n\t<li>'of&amp;'</li>\n\t<li>'paste&amp;'</li>\n\t<li>'is&amp;'</li>\n\t<li>'available'</li>\n\t<li>'&amp;in the online=help'</li>\n</ol>\n</li>\n</ol>\n"
          },
          "metadata": {}
        }
      ]
    },
    {
      "metadata": {
        "trusted": true
      },
      "cell_type": "code",
      "source": "#  grep(pattern,x,ignore.case=FALSE): It searches a pattern in X. \ngrep('ara',str)",
      "execution_count": 104,
      "outputs": [
        {
          "output_type": "display_data",
          "data": {
            "text/plain": "[1] 1",
            "text/latex": "1",
            "text/markdown": "1",
            "text/html": "1"
          },
          "metadata": {}
        }
      ]
    },
    {
      "metadata": {
        "trusted": true
      },
      "cell_type": "code",
      "source": "grep('test',str)  # No output as test doesn't exit in str",
      "execution_count": 105,
      "outputs": [
        {
          "output_type": "display_data",
          "data": {
            "text/plain": "integer(0)",
            "text/latex": "",
            "text/markdown": "",
            "text/html": ""
          },
          "metadata": {}
        }
      ]
    },
    {
      "metadata": {
        "trusted": true
      },
      "cell_type": "code",
      "source": "test = ' hi hi how r u hi'\ngrep('hi',test)",
      "execution_count": 106,
      "outputs": [
        {
          "output_type": "display_data",
          "data": {
            "text/plain": "[1] 1",
            "text/latex": "1",
            "text/markdown": "1",
            "text/html": "1"
          },
          "metadata": {}
        }
      ]
    },
    {
      "metadata": {},
      "cell_type": "markdown",
      "source": "__`Sub(pattern,replacement,x,ignore.case=FALSE,Fixed=FAlse)`:__ \n- It finds a pattern in x and replaces with the replacement text. According to Sub, there is a little bit different between Sub and Gsub."
    },
    {
      "metadata": {
        "trusted": true
      },
      "cell_type": "code",
      "source": "#sub() --> finds the first instance of the old substring within string and replaces it with the new substring\ny<-'Mr.singh is the smart one. Mr.singh is funny, too'\ny",
      "execution_count": 107,
      "outputs": [
        {
          "output_type": "display_data",
          "data": {
            "text/plain": "[1] \"Mr.singh is the smart one. Mr.singh is funny, too\"",
            "text/latex": "'Mr.singh is the smart one. Mr.singh is funny, too'",
            "text/markdown": "'Mr.singh is the smart one. Mr.singh is funny, too'",
            "text/html": "'Mr.singh is the smart one. Mr.singh is funny, too'"
          },
          "metadata": {}
        }
      ]
    },
    {
      "metadata": {
        "trusted": true
      },
      "cell_type": "code",
      "source": "sub('Mr.singh','Professer Jha',y)",
      "execution_count": 108,
      "outputs": [
        {
          "output_type": "display_data",
          "data": {
            "text/plain": "[1] \"Professer Jha is the smart one. Mr.singh is funny, too\"",
            "text/latex": "'Professer Jha is the smart one. Mr.singh is funny, too'",
            "text/markdown": "'Professer Jha is the smart one. Mr.singh is funny, too'",
            "text/html": "'Professer Jha is the smart one. Mr.singh is funny, too'"
          },
          "metadata": {}
        }
      ]
    },
    {
      "metadata": {
        "trusted": true
      },
      "cell_type": "code",
      "source": "#gsub() --> finds all the instances of the old string and replaces with new string\n\ngsub('Mr.singh','Professer Jha',y)",
      "execution_count": 109,
      "outputs": [
        {
          "output_type": "display_data",
          "data": {
            "text/plain": "[1] \"Professer Jha is the smart one. Professer Jha is funny, too\"",
            "text/latex": "'Professer Jha is the smart one. Professer Jha is funny, too'",
            "text/markdown": "'Professer Jha is the smart one. Professer Jha is funny, too'",
            "text/html": "'Professer Jha is the smart one. Professer Jha is funny, too'"
          },
          "metadata": {}
        }
      ]
    },
    {
      "metadata": {
        "trusted": true
      },
      "cell_type": "code",
      "source": "# eval --> function evaluates an(unevaluated) R expression in a specified enviornment\neval(6+8)",
      "execution_count": 110,
      "outputs": [
        {
          "output_type": "display_data",
          "data": {
            "text/plain": "[1] 14",
            "text/latex": "14",
            "text/markdown": "14",
            "text/html": "14"
          },
          "metadata": {}
        }
      ]
    },
    {
      "metadata": {
        "trusted": true
      },
      "cell_type": "code",
      "source": "print(eval('6+8'))\nprint(class('6+8'))\nprint(eval(parse(text='6+8')))   #Converts string to expression\nprint(class(parse(text='6+8')))",
      "execution_count": 111,
      "outputs": [
        {
          "output_type": "stream",
          "text": "[1] \"6+8\"\n[1] \"character\"\n[1] 14\n[1] \"expression\"\n",
          "name": "stdout"
        }
      ]
    },
    {
      "metadata": {},
      "cell_type": "markdown",
      "source": "### Writing own function\n\nwhy? - writing your own functions is one way to reduce duplication in your code\n\nwhen? when you are doing lot of copy paste of same code with minimal change"
    },
    {
      "metadata": {
        "trusted": true
      },
      "cell_type": "code",
      "source": "#Example of writing a function:\n\n#Body of the function\ntriple<-function(x){\n    3*x\n}\n\ntriple(6)    #Output of the function",
      "execution_count": 112,
      "outputs": [
        {
          "output_type": "display_data",
          "data": {
            "text/plain": "[1] 18",
            "text/latex": "18",
            "text/markdown": "18",
            "text/html": "18"
          },
          "metadata": {}
        }
      ]
    },
    {
      "metadata": {},
      "cell_type": "markdown",
      "source": "### Formatting and Display of Strings"
    },
    {
      "metadata": {},
      "cell_type": "markdown",
      "source": "Important commands regarding formatting and display are  print, format, cat, and  paste.\n\n`print()` --> generic command that is available for every object class[prints its argument].\n\n`format(x, ...)`  --> Format an R object for pretty printing.\n\n`format(x, trim = FALSE, digits = NULL, nsmall = 0L,  justify = c(\"left\", \"right\", \"centre\", \"none\"), width = NULL,   ...)`\n\n`digits` --> shows how many significant digits are to be used  \n`nsmall` --> shows the minimum number of digits to the right of the  decimal point  \n`justify` --> provides left-justified (the default), right-justified, or centred"
    },
    {
      "metadata": {
        "trusted": true
      },
      "cell_type": "code",
      "source": "#Note: The  print function has a significant limitation that it prints only one object at a  time.\nprint(\"The Zero occurs at \",2*pi,\" radians\")\n\n#cat function is an alternative to print that lets you combine multiple items into a continuous output.",
      "execution_count": 113,
      "outputs": [
        {
          "output_type": "error",
          "ename": "ERROR",
          "evalue": "Error in print.default(\"The Zero occurs at \", 2 * pi, \" radians\"): invalid 'quote' argument\n",
          "traceback": [
            "Error in print.default(\"The Zero occurs at \", 2 * pi, \" radians\"): invalid 'quote' argument\nTraceback:\n",
            "1. print(\"The Zero occurs at \", 2 * pi, \" radians\")",
            "2. print.default(\"The Zero occurs at \", 2 * pi, \" radians\")"
          ]
        }
      ]
    },
    {
      "metadata": {},
      "cell_type": "markdown",
      "source": "### Cat Function"
    },
    {
      "metadata": {},
      "cell_type": "markdown",
      "source": "1) The function `cat()` concatenate (link in the same sequence) and print  the arguments in strings, concatenates them and prints the entire string in the command window. \n\n2) cat is useful for producing output in user-defined functions. \n\n3) It converts its arguments to character vectors, link  them together in the same sequence  to a single character vector, appends the given `sep = string(s)` to each element and then outputs them.\n        `cat(... , file = \"\", sep = \" \", …)`\n        \n4) cat puts a space between each item by default. \n\n5) One must provide a newline character (\\n) (newline)  to terminate the line. "
    },
    {
      "metadata": {
        "trusted": true
      },
      "cell_type": "code",
      "source": "print(\"The Zero occurs at \"); print(2*pi); print(\" radians\")",
      "execution_count": 114,
      "outputs": [
        {
          "output_type": "stream",
          "text": "[1] \"The Zero occurs at \"\n[1] 6.283185\n[1] \" radians\"\n",
          "name": "stdout"
        }
      ]
    },
    {
      "metadata": {
        "trusted": true
      },
      "cell_type": "code",
      "source": "cat(\"The Zero occurs at \",2*pi,\" radians\")",
      "execution_count": 115,
      "outputs": [
        {
          "output_type": "stream",
          "text": "The Zero occurs at  6.283185  radians",
          "name": "stdout"
        }
      ]
    },
    {
      "metadata": {
        "trusted": true
      },
      "cell_type": "code",
      "source": "d<-date()\nd",
      "execution_count": 116,
      "outputs": [
        {
          "output_type": "display_data",
          "data": {
            "text/plain": "[1] \"Sun Mar 29 13:38:44 2020\"",
            "text/latex": "'Sun Mar 29 13:38:44 2020'",
            "text/markdown": "'Sun Mar 29 13:38:44 2020'",
            "text/html": "'Sun Mar 29 13:38:44 2020'"
          },
          "metadata": {}
        }
      ]
    },
    {
      "metadata": {
        "trusted": true
      },
      "cell_type": "code",
      "source": "cat<-(\"Today is:\",d,\"\\n\")   # d is date not a string to concatenate",
      "execution_count": 118,
      "outputs": [
        {
          "output_type": "error",
          "ename": "ERROR",
          "evalue": "Error in parse(text = x, srcfile = src): <text>:1:18: unexpected ','\n1: cat<-(\"Today is:\",\n                     ^\n",
          "traceback": [
            "Error in parse(text = x, srcfile = src): <text>:1:18: unexpected ','\n1: cat<-(\"Today is:\",\n                     ^\nTraceback:\n"
          ]
        }
      ]
    },
    {
      "metadata": {
        "trusted": true
      },
      "cell_type": "code",
      "source": "x<-7\ncat('The Square of',x,'is',x^2,'!\\n')\ncat('The Square root of',x,'is approximately',format(sqrt(x),digits=3),'\\n')\nevenno<-c(2,4,6,8,10)\ncat('The first few even numbers are: ',evenno,'...\\n')",
      "execution_count": 120,
      "outputs": [
        {
          "output_type": "stream",
          "text": "The Square of 7 is 49 !\nThe Square root of 7 is approximately 2.65 \nThe first few even numbers are:  2 4 6 8 10 ...\n",
          "name": "stdout"
        }
      ]
    },
    {
      "metadata": {},
      "cell_type": "markdown",
      "source": "### Paste  function "
    },
    {
      "metadata": {},
      "cell_type": "markdown",
      "source": "1) The  `paste()`  function concatenates several strings together.\n\n2) It creates a new string by joining the given strings end to end. \n\n3) **The result of `paste()` can be assigned to a variable  (in contrast to the function `cat()`).**\n\n`paste (..., sep = \" \", collapse = NULL)`\n\n4) `collapse` is an optional character string to separate the results.\n\n5) The parameter `sep` is a string that serves as a separation between the strings that are given as input. \n\n6) paste inserts a single space between pairs of strings. \n\n7) A desired line break can be achieved with \"\\n\" (newline)."
    },
    {
      "metadata": {},
      "cell_type": "markdown",
      "source": "__collapse__ parameter defines a top-level separator and instructs paste to concatenate the generated strings using that separator."
    },
    {
      "metadata": {
        "trusted": true
      },
      "cell_type": "code",
      "source": "paste('Everybody','loves','R Programming',sep='*')",
      "execution_count": 121,
      "outputs": [
        {
          "output_type": "display_data",
          "data": {
            "text/plain": "[1] \"Everybody*loves*R Programming\"",
            "text/latex": "'Everybody*loves*R Programming'",
            "text/markdown": "'Everybody*loves*R Programming'",
            "text/html": "'Everybody*loves*R Programming'"
          },
          "metadata": {}
        }
      ]
    },
    {
      "metadata": {
        "trusted": true
      },
      "cell_type": "code",
      "source": "names<-c('prof.singh','Mr.Venkat','Dr.Jha')\npaste(names,'is','a good','Person.')",
      "execution_count": 122,
      "outputs": [
        {
          "output_type": "display_data",
          "data": {
            "text/plain": "[1] \"prof.singh is a good Person.\" \"Mr.Venkat is a good Person.\" \n[3] \"Dr.Jha is a good Person.\"    ",
            "text/latex": "\\begin{enumerate*}\n\\item 'prof.singh is a good Person.'\n\\item 'Mr.Venkat is a good Person.'\n\\item 'Dr.Jha is a good Person.'\n\\end{enumerate*}\n",
            "text/markdown": "1. 'prof.singh is a good Person.'\n2. 'Mr.Venkat is a good Person.'\n3. 'Dr.Jha is a good Person.'\n\n\n",
            "text/html": "<ol class=list-inline>\n\t<li>'prof.singh is a good Person.'</li>\n\t<li>'Mr.Venkat is a good Person.'</li>\n\t<li>'Dr.Jha is a good Person.'</li>\n</ol>\n"
          },
          "metadata": {}
        }
      ]
    },
    {
      "metadata": {
        "trusted": true
      },
      "cell_type": "code",
      "source": "paste(names,'is','a good','person',collapse=', and ')",
      "execution_count": 123,
      "outputs": [
        {
          "output_type": "display_data",
          "data": {
            "text/plain": "[1] \"prof.singh is a good person, and Mr.Venkat is a good person, and Dr.Jha is a good person\"",
            "text/latex": "'prof.singh is a good person, and Mr.Venkat is a good person, and Dr.Jha is a good person'",
            "text/markdown": "'prof.singh is a good person, and Mr.Venkat is a good person, and Dr.Jha is a good person'",
            "text/html": "'prof.singh is a good person, and Mr.Venkat is a good person, and Dr.Jha is a good person'"
          },
          "metadata": {}
        }
      ]
    },
    {
      "metadata": {
        "trusted": true
      },
      "cell_type": "code",
      "source": "x<-paste('Ex',1:5, sep='_')\nx",
      "execution_count": 124,
      "outputs": [
        {
          "output_type": "display_data",
          "data": {
            "text/plain": "[1] \"Ex_1\" \"Ex_2\" \"Ex_3\" \"Ex_4\" \"Ex_5\"",
            "text/latex": "\\begin{enumerate*}\n\\item 'Ex\\_1'\n\\item 'Ex\\_2'\n\\item 'Ex\\_3'\n\\item 'Ex\\_4'\n\\item 'Ex\\_5'\n\\end{enumerate*}\n",
            "text/markdown": "1. 'Ex_1'\n2. 'Ex_2'\n3. 'Ex_3'\n4. 'Ex_4'\n5. 'Ex_5'\n\n\n",
            "text/html": "<ol class=list-inline>\n\t<li>'Ex_1'</li>\n\t<li>'Ex_2'</li>\n\t<li>'Ex_3'</li>\n\t<li>'Ex_4'</li>\n\t<li>'Ex_5'</li>\n</ol>\n"
          },
          "metadata": {}
        }
      ]
    },
    {
      "metadata": {
        "trusted": true
      },
      "cell_type": "code",
      "source": "class(x)",
      "execution_count": 125,
      "outputs": [
        {
          "output_type": "display_data",
          "data": {
            "text/plain": "[1] \"character\"",
            "text/latex": "'character'",
            "text/markdown": "'character'",
            "text/html": "'character'"
          },
          "metadata": {}
        }
      ]
    },
    {
      "metadata": {
        "trusted": true
      },
      "cell_type": "code",
      "source": "x[1]",
      "execution_count": 126,
      "outputs": [
        {
          "output_type": "display_data",
          "data": {
            "text/plain": "[1] \"Ex_1\"",
            "text/latex": "'Ex\\_1'",
            "text/markdown": "'Ex_1'",
            "text/html": "'Ex_1'"
          },
          "metadata": {}
        }
      ]
    },
    {
      "metadata": {},
      "cell_type": "markdown",
      "source": "# Basics"
    },
    {
      "metadata": {
        "trusted": true
      },
      "cell_type": "code",
      "source": "getwd()   #Checks what is the current working directory",
      "execution_count": 127,
      "outputs": [
        {
          "output_type": "display_data",
          "data": {
            "text/plain": "[1] \"/home/nbuser/library\"",
            "text/latex": "'/home/nbuser/library'",
            "text/markdown": "'/home/nbuser/library'",
            "text/html": "'/home/nbuser/library'"
          },
          "metadata": {}
        }
      ]
    },
    {
      "metadata": {
        "trusted": true
      },
      "cell_type": "code",
      "source": "# setwd() - for setting up the working directory\nlist.files()   #shows the contents of your working directory",
      "execution_count": 128,
      "outputs": [
        {
          "output_type": "display_data",
          "data": {
            "text/plain": " [1] \"0. R Data Mining Book.ipynb\"        \"1. Introduction to R.ipynb\"        \n [3] \"13. DataPreprocessing.ipynb\"        \"2. R Programming - Basics.ipynb\"   \n [5] \"3. Datastructures.ipynb\"            \"4. Import files to R.ipynb\"        \n [7] \"5. Export data from R.ipynb\"        \"8. Data Manuplation.ipynb\"         \n [9] \"9. Data Visualization.ipynb\"        \"Apply Function.JPG\"                \n[11] \"DummyData.csv\"                      \"DummyData.Rdata\"                   \n[13] \"FileTypes.JPG\"                      \"hotdog.txt\"                        \n[15] \"Import-Export-Code.docx\"            \"Importing Data from Database.JPG\"  \n[17] \"Importing webdata.JPG\"              \"mtcarsexport.txt\"                  \n[19] \"mtcarsexportxl.xlsx\"                \"my-df.csv\"                         \n[21] \"myPlot.pdf\"                         \"myPlot2.ps\"                        \n[23] \"Newmtcars.xlsx\"                     \"notebook.tex\"                      \n[25] \"Onsite-Questions.pdf\"               \"output_0_0.png\"                    \n[27] \"output_2_0.jpeg\"                    \"R DataMining.pdf\"                  \n[29] \"README.md\"                          \"RstudioImage.PNG\"                  \n[31] \"Stastical data.JPG\"                 \"Time Series Forecasting.pdf\"       \n[33] \"titanic-train.csv\"                  \"Typeofdatastructures.JPG\"          \n[35] \"urbanpop.xlsx\"                      \"Visulization of Datastructures.JPG\"\n[37] \"Web API&JSON.JPG\"                  ",
            "text/latex": "\\begin{enumerate*}\n\\item '0. R Data Mining Book.ipynb'\n\\item '1. Introduction to R.ipynb'\n\\item '13. DataPreprocessing.ipynb'\n\\item '2. R Programming - Basics.ipynb'\n\\item '3. Datastructures.ipynb'\n\\item '4. Import files to R.ipynb'\n\\item '5. Export data from R.ipynb'\n\\item '8. Data Manuplation.ipynb'\n\\item '9. Data Visualization.ipynb'\n\\item 'Apply Function.JPG'\n\\item 'DummyData.csv'\n\\item 'DummyData.Rdata'\n\\item 'FileTypes.JPG'\n\\item 'hotdog.txt'\n\\item 'Import-Export-Code.docx'\n\\item 'Importing Data from Database.JPG'\n\\item 'Importing webdata.JPG'\n\\item 'mtcarsexport.txt'\n\\item 'mtcarsexportxl.xlsx'\n\\item 'my-df.csv'\n\\item 'myPlot.pdf'\n\\item 'myPlot2.ps'\n\\item 'Newmtcars.xlsx'\n\\item 'notebook.tex'\n\\item 'Onsite-Questions.pdf'\n\\item 'output\\_0\\_0.png'\n\\item 'output\\_2\\_0.jpeg'\n\\item 'R DataMining.pdf'\n\\item 'README.md'\n\\item 'RstudioImage.PNG'\n\\item 'Stastical data.JPG'\n\\item 'Time Series Forecasting.pdf'\n\\item 'titanic-train.csv'\n\\item 'Typeofdatastructures.JPG'\n\\item 'urbanpop.xlsx'\n\\item 'Visulization of Datastructures.JPG'\n\\item 'Web API\\&JSON.JPG'\n\\end{enumerate*}\n",
            "text/markdown": "1. '0. R Data Mining Book.ipynb'\n2. '1. Introduction to R.ipynb'\n3. '13. DataPreprocessing.ipynb'\n4. '2. R Programming - Basics.ipynb'\n5. '3. Datastructures.ipynb'\n6. '4. Import files to R.ipynb'\n7. '5. Export data from R.ipynb'\n8. '8. Data Manuplation.ipynb'\n9. '9. Data Visualization.ipynb'\n10. 'Apply Function.JPG'\n11. 'DummyData.csv'\n12. 'DummyData.Rdata'\n13. 'FileTypes.JPG'\n14. 'hotdog.txt'\n15. 'Import-Export-Code.docx'\n16. 'Importing Data from Database.JPG'\n17. 'Importing webdata.JPG'\n18. 'mtcarsexport.txt'\n19. 'mtcarsexportxl.xlsx'\n20. 'my-df.csv'\n21. 'myPlot.pdf'\n22. 'myPlot2.ps'\n23. 'Newmtcars.xlsx'\n24. 'notebook.tex'\n25. 'Onsite-Questions.pdf'\n26. 'output_0_0.png'\n27. 'output_2_0.jpeg'\n28. 'R DataMining.pdf'\n29. 'README.md'\n30. 'RstudioImage.PNG'\n31. 'Stastical data.JPG'\n32. 'Time Series Forecasting.pdf'\n33. 'titanic-train.csv'\n34. 'Typeofdatastructures.JPG'\n35. 'urbanpop.xlsx'\n36. 'Visulization of Datastructures.JPG'\n37. 'Web API&amp;JSON.JPG'\n\n\n",
            "text/html": "<ol class=list-inline>\n\t<li>'0. R Data Mining Book.ipynb'</li>\n\t<li>'1. Introduction to R.ipynb'</li>\n\t<li>'13. DataPreprocessing.ipynb'</li>\n\t<li>'2. R Programming - Basics.ipynb'</li>\n\t<li>'3. Datastructures.ipynb'</li>\n\t<li>'4. Import files to R.ipynb'</li>\n\t<li>'5. Export data from R.ipynb'</li>\n\t<li>'8. Data Manuplation.ipynb'</li>\n\t<li>'9. Data Visualization.ipynb'</li>\n\t<li>'Apply Function.JPG'</li>\n\t<li>'DummyData.csv'</li>\n\t<li>'DummyData.Rdata'</li>\n\t<li>'FileTypes.JPG'</li>\n\t<li>'hotdog.txt'</li>\n\t<li>'Import-Export-Code.docx'</li>\n\t<li>'Importing Data from Database.JPG'</li>\n\t<li>'Importing webdata.JPG'</li>\n\t<li>'mtcarsexport.txt'</li>\n\t<li>'mtcarsexportxl.xlsx'</li>\n\t<li>'my-df.csv'</li>\n\t<li>'myPlot.pdf'</li>\n\t<li>'myPlot2.ps'</li>\n\t<li>'Newmtcars.xlsx'</li>\n\t<li>'notebook.tex'</li>\n\t<li>'Onsite-Questions.pdf'</li>\n\t<li>'output_0_0.png'</li>\n\t<li>'output_2_0.jpeg'</li>\n\t<li>'R DataMining.pdf'</li>\n\t<li>'README.md'</li>\n\t<li>'RstudioImage.PNG'</li>\n\t<li>'Stastical data.JPG'</li>\n\t<li>'Time Series Forecasting.pdf'</li>\n\t<li>'titanic-train.csv'</li>\n\t<li>'Typeofdatastructures.JPG'</li>\n\t<li>'urbanpop.xlsx'</li>\n\t<li>'Visulization of Datastructures.JPG'</li>\n\t<li>'Web API&amp;JSON.JPG'</li>\n</ol>\n"
          },
          "metadata": {}
        }
      ]
    },
    {
      "metadata": {
        "trusted": true
      },
      "cell_type": "code",
      "source": "dir('/home/nbuser/library')   #shows the contents of your working directory",
      "execution_count": 129,
      "outputs": [
        {
          "output_type": "display_data",
          "data": {
            "text/plain": " [1] \"0. R Data Mining Book.ipynb\"        \"1. Introduction to R.ipynb\"        \n [3] \"13. DataPreprocessing.ipynb\"        \"2. R Programming - Basics.ipynb\"   \n [5] \"3. Datastructures.ipynb\"            \"4. Import files to R.ipynb\"        \n [7] \"5. Export data from R.ipynb\"        \"8. Data Manuplation.ipynb\"         \n [9] \"9. Data Visualization.ipynb\"        \"Apply Function.JPG\"                \n[11] \"DummyData.csv\"                      \"DummyData.Rdata\"                   \n[13] \"FileTypes.JPG\"                      \"hotdog.txt\"                        \n[15] \"Import-Export-Code.docx\"            \"Importing Data from Database.JPG\"  \n[17] \"Importing webdata.JPG\"              \"mtcarsexport.txt\"                  \n[19] \"mtcarsexportxl.xlsx\"                \"my-df.csv\"                         \n[21] \"myPlot.pdf\"                         \"myPlot2.ps\"                        \n[23] \"Newmtcars.xlsx\"                     \"notebook.tex\"                      \n[25] \"Onsite-Questions.pdf\"               \"output_0_0.png\"                    \n[27] \"output_2_0.jpeg\"                    \"R DataMining.pdf\"                  \n[29] \"README.md\"                          \"RstudioImage.PNG\"                  \n[31] \"Stastical data.JPG\"                 \"Time Series Forecasting.pdf\"       \n[33] \"titanic-train.csv\"                  \"Typeofdatastructures.JPG\"          \n[35] \"urbanpop.xlsx\"                      \"Visulization of Datastructures.JPG\"\n[37] \"Web API&JSON.JPG\"                  ",
            "text/latex": "\\begin{enumerate*}\n\\item '0. R Data Mining Book.ipynb'\n\\item '1. Introduction to R.ipynb'\n\\item '13. DataPreprocessing.ipynb'\n\\item '2. R Programming - Basics.ipynb'\n\\item '3. Datastructures.ipynb'\n\\item '4. Import files to R.ipynb'\n\\item '5. Export data from R.ipynb'\n\\item '8. Data Manuplation.ipynb'\n\\item '9. Data Visualization.ipynb'\n\\item 'Apply Function.JPG'\n\\item 'DummyData.csv'\n\\item 'DummyData.Rdata'\n\\item 'FileTypes.JPG'\n\\item 'hotdog.txt'\n\\item 'Import-Export-Code.docx'\n\\item 'Importing Data from Database.JPG'\n\\item 'Importing webdata.JPG'\n\\item 'mtcarsexport.txt'\n\\item 'mtcarsexportxl.xlsx'\n\\item 'my-df.csv'\n\\item 'myPlot.pdf'\n\\item 'myPlot2.ps'\n\\item 'Newmtcars.xlsx'\n\\item 'notebook.tex'\n\\item 'Onsite-Questions.pdf'\n\\item 'output\\_0\\_0.png'\n\\item 'output\\_2\\_0.jpeg'\n\\item 'R DataMining.pdf'\n\\item 'README.md'\n\\item 'RstudioImage.PNG'\n\\item 'Stastical data.JPG'\n\\item 'Time Series Forecasting.pdf'\n\\item 'titanic-train.csv'\n\\item 'Typeofdatastructures.JPG'\n\\item 'urbanpop.xlsx'\n\\item 'Visulization of Datastructures.JPG'\n\\item 'Web API\\&JSON.JPG'\n\\end{enumerate*}\n",
            "text/markdown": "1. '0. R Data Mining Book.ipynb'\n2. '1. Introduction to R.ipynb'\n3. '13. DataPreprocessing.ipynb'\n4. '2. R Programming - Basics.ipynb'\n5. '3. Datastructures.ipynb'\n6. '4. Import files to R.ipynb'\n7. '5. Export data from R.ipynb'\n8. '8. Data Manuplation.ipynb'\n9. '9. Data Visualization.ipynb'\n10. 'Apply Function.JPG'\n11. 'DummyData.csv'\n12. 'DummyData.Rdata'\n13. 'FileTypes.JPG'\n14. 'hotdog.txt'\n15. 'Import-Export-Code.docx'\n16. 'Importing Data from Database.JPG'\n17. 'Importing webdata.JPG'\n18. 'mtcarsexport.txt'\n19. 'mtcarsexportxl.xlsx'\n20. 'my-df.csv'\n21. 'myPlot.pdf'\n22. 'myPlot2.ps'\n23. 'Newmtcars.xlsx'\n24. 'notebook.tex'\n25. 'Onsite-Questions.pdf'\n26. 'output_0_0.png'\n27. 'output_2_0.jpeg'\n28. 'R DataMining.pdf'\n29. 'README.md'\n30. 'RstudioImage.PNG'\n31. 'Stastical data.JPG'\n32. 'Time Series Forecasting.pdf'\n33. 'titanic-train.csv'\n34. 'Typeofdatastructures.JPG'\n35. 'urbanpop.xlsx'\n36. 'Visulization of Datastructures.JPG'\n37. 'Web API&amp;JSON.JPG'\n\n\n",
            "text/html": "<ol class=list-inline>\n\t<li>'0. R Data Mining Book.ipynb'</li>\n\t<li>'1. Introduction to R.ipynb'</li>\n\t<li>'13. DataPreprocessing.ipynb'</li>\n\t<li>'2. R Programming - Basics.ipynb'</li>\n\t<li>'3. Datastructures.ipynb'</li>\n\t<li>'4. Import files to R.ipynb'</li>\n\t<li>'5. Export data from R.ipynb'</li>\n\t<li>'8. Data Manuplation.ipynb'</li>\n\t<li>'9. Data Visualization.ipynb'</li>\n\t<li>'Apply Function.JPG'</li>\n\t<li>'DummyData.csv'</li>\n\t<li>'DummyData.Rdata'</li>\n\t<li>'FileTypes.JPG'</li>\n\t<li>'hotdog.txt'</li>\n\t<li>'Import-Export-Code.docx'</li>\n\t<li>'Importing Data from Database.JPG'</li>\n\t<li>'Importing webdata.JPG'</li>\n\t<li>'mtcarsexport.txt'</li>\n\t<li>'mtcarsexportxl.xlsx'</li>\n\t<li>'my-df.csv'</li>\n\t<li>'myPlot.pdf'</li>\n\t<li>'myPlot2.ps'</li>\n\t<li>'Newmtcars.xlsx'</li>\n\t<li>'notebook.tex'</li>\n\t<li>'Onsite-Questions.pdf'</li>\n\t<li>'output_0_0.png'</li>\n\t<li>'output_2_0.jpeg'</li>\n\t<li>'R DataMining.pdf'</li>\n\t<li>'README.md'</li>\n\t<li>'RstudioImage.PNG'</li>\n\t<li>'Stastical data.JPG'</li>\n\t<li>'Time Series Forecasting.pdf'</li>\n\t<li>'titanic-train.csv'</li>\n\t<li>'Typeofdatastructures.JPG'</li>\n\t<li>'urbanpop.xlsx'</li>\n\t<li>'Visulization of Datastructures.JPG'</li>\n\t<li>'Web API&amp;JSON.JPG'</li>\n</ol>\n"
          },
          "metadata": {}
        }
      ]
    },
    {
      "metadata": {
        "trusted": true
      },
      "cell_type": "code",
      "source": "ls()   #displays list of variables in R",
      "execution_count": 131,
      "outputs": [
        {
          "output_type": "display_data",
          "data": {
            "text/plain": " [1] \"a\"         \"add\"       \"b\"         \"c\"         \"d\"         \"evenno\"   \n [7] \"f\"         \"g\"         \"h\"         \"i\"         \"ind\"       \"lower_Str\"\n[13] \"names\"     \"num\"       \"str\"       \"sub_str\"   \"test\"      \"triple\"   \n[19] \"upper_str\" \"vec\"       \"vec1\"      \"vect\"      \"x\"         \"y\"        ",
            "text/latex": "\\begin{enumerate*}\n\\item 'a'\n\\item 'add'\n\\item 'b'\n\\item 'c'\n\\item 'd'\n\\item 'evenno'\n\\item 'f'\n\\item 'g'\n\\item 'h'\n\\item 'i'\n\\item 'ind'\n\\item 'lower\\_Str'\n\\item 'names'\n\\item 'num'\n\\item 'str'\n\\item 'sub\\_str'\n\\item 'test'\n\\item 'triple'\n\\item 'upper\\_str'\n\\item 'vec'\n\\item 'vec1'\n\\item 'vect'\n\\item 'x'\n\\item 'y'\n\\end{enumerate*}\n",
            "text/markdown": "1. 'a'\n2. 'add'\n3. 'b'\n4. 'c'\n5. 'd'\n6. 'evenno'\n7. 'f'\n8. 'g'\n9. 'h'\n10. 'i'\n11. 'ind'\n12. 'lower_Str'\n13. 'names'\n14. 'num'\n15. 'str'\n16. 'sub_str'\n17. 'test'\n18. 'triple'\n19. 'upper_str'\n20. 'vec'\n21. 'vec1'\n22. 'vect'\n23. 'x'\n24. 'y'\n\n\n",
            "text/html": "<ol class=list-inline>\n\t<li>'a'</li>\n\t<li>'add'</li>\n\t<li>'b'</li>\n\t<li>'c'</li>\n\t<li>'d'</li>\n\t<li>'evenno'</li>\n\t<li>'f'</li>\n\t<li>'g'</li>\n\t<li>'h'</li>\n\t<li>'i'</li>\n\t<li>'ind'</li>\n\t<li>'lower_Str'</li>\n\t<li>'names'</li>\n\t<li>'num'</li>\n\t<li>'str'</li>\n\t<li>'sub_str'</li>\n\t<li>'test'</li>\n\t<li>'triple'</li>\n\t<li>'upper_str'</li>\n\t<li>'vec'</li>\n\t<li>'vec1'</li>\n\t<li>'vect'</li>\n\t<li>'x'</li>\n\t<li>'y'</li>\n</ol>\n"
          },
          "metadata": {}
        }
      ]
    },
    {
      "metadata": {
        "trusted": true
      },
      "cell_type": "code",
      "source": "#To find currently loaded packages in R\nsearch()",
      "execution_count": 132,
      "outputs": [
        {
          "output_type": "display_data",
          "data": {
            "text/plain": " [1] \".GlobalEnv\"        \"package:IRdisplay\" \"jupyter:irkernel\" \n [4] \"package:stats\"     \"package:graphics\"  \"package:grDevices\"\n [7] \"package:utils\"     \"package:datasets\"  \"package:methods\"  \n[10] \"Autoloads\"         \"package:base\"     ",
            "text/latex": "\\begin{enumerate*}\n\\item '.GlobalEnv'\n\\item 'package:IRdisplay'\n\\item 'jupyter:irkernel'\n\\item 'package:stats'\n\\item 'package:graphics'\n\\item 'package:grDevices'\n\\item 'package:utils'\n\\item 'package:datasets'\n\\item 'package:methods'\n\\item 'Autoloads'\n\\item 'package:base'\n\\end{enumerate*}\n",
            "text/markdown": "1. '.GlobalEnv'\n2. 'package:IRdisplay'\n3. 'jupyter:irkernel'\n4. 'package:stats'\n5. 'package:graphics'\n6. 'package:grDevices'\n7. 'package:utils'\n8. 'package:datasets'\n9. 'package:methods'\n10. 'Autoloads'\n11. 'package:base'\n\n\n",
            "text/html": "<ol class=list-inline>\n\t<li>'.GlobalEnv'</li>\n\t<li>'package:IRdisplay'</li>\n\t<li>'jupyter:irkernel'</li>\n\t<li>'package:stats'</li>\n\t<li>'package:graphics'</li>\n\t<li>'package:grDevices'</li>\n\t<li>'package:utils'</li>\n\t<li>'package:datasets'</li>\n\t<li>'package:methods'</li>\n\t<li>'Autoloads'</li>\n\t<li>'package:base'</li>\n</ol>\n"
          },
          "metadata": {}
        }
      ]
    },
    {
      "metadata": {
        "trusted": true
      },
      "cell_type": "code",
      "source": "#list of packages (Open CRAN)\n\nbrowseURL(\"https://cran.r-project.org/web/views/\")",
      "execution_count": 133,
      "outputs": []
    },
    {
      "metadata": {
        "trusted": true
      },
      "cell_type": "code",
      "source": "require(\"ggplot2\")  #library(\"ggplot2\") is to similarily",
      "execution_count": 134,
      "outputs": [
        {
          "output_type": "stream",
          "text": "Loading required package: ggplot2\n",
          "name": "stderr"
        }
      ]
    },
    {
      "metadata": {
        "trusted": true
      },
      "cell_type": "code",
      "source": "search()",
      "execution_count": 135,
      "outputs": [
        {
          "output_type": "display_data",
          "data": {
            "text/plain": " [1] \".GlobalEnv\"        \"package:ggplot2\"   \"package:IRdisplay\"\n [4] \"jupyter:irkernel\"  \"package:stats\"     \"package:graphics\" \n [7] \"package:grDevices\" \"package:utils\"     \"package:datasets\" \n[10] \"package:methods\"   \"Autoloads\"         \"package:base\"     ",
            "text/latex": "\\begin{enumerate*}\n\\item '.GlobalEnv'\n\\item 'package:ggplot2'\n\\item 'package:IRdisplay'\n\\item 'jupyter:irkernel'\n\\item 'package:stats'\n\\item 'package:graphics'\n\\item 'package:grDevices'\n\\item 'package:utils'\n\\item 'package:datasets'\n\\item 'package:methods'\n\\item 'Autoloads'\n\\item 'package:base'\n\\end{enumerate*}\n",
            "text/markdown": "1. '.GlobalEnv'\n2. 'package:ggplot2'\n3. 'package:IRdisplay'\n4. 'jupyter:irkernel'\n5. 'package:stats'\n6. 'package:graphics'\n7. 'package:grDevices'\n8. 'package:utils'\n9. 'package:datasets'\n10. 'package:methods'\n11. 'Autoloads'\n12. 'package:base'\n\n\n",
            "text/html": "<ol class=list-inline>\n\t<li>'.GlobalEnv'</li>\n\t<li>'package:ggplot2'</li>\n\t<li>'package:IRdisplay'</li>\n\t<li>'jupyter:irkernel'</li>\n\t<li>'package:stats'</li>\n\t<li>'package:graphics'</li>\n\t<li>'package:grDevices'</li>\n\t<li>'package:utils'</li>\n\t<li>'package:datasets'</li>\n\t<li>'package:methods'</li>\n\t<li>'Autoloads'</li>\n\t<li>'package:base'</li>\n</ol>\n"
          },
          "metadata": {}
        }
      ]
    },
    {
      "metadata": {
        "trusted": true
      },
      "cell_type": "code",
      "source": "#Remove the package from R Environment\nremove.packages(\"ggplot2\")",
      "execution_count": 136,
      "outputs": [
        {
          "output_type": "stream",
          "text": "Removing package from ‘/home/nbuser/R’\n(as ‘lib’ is unspecified)\n",
          "name": "stderr"
        }
      ]
    },
    {
      "metadata": {
        "trusted": true
      },
      "cell_type": "code",
      "source": "search()",
      "execution_count": 137,
      "outputs": [
        {
          "output_type": "display_data",
          "data": {
            "text/plain": " [1] \".GlobalEnv\"        \"package:ggplot2\"   \"package:IRdisplay\"\n [4] \"jupyter:irkernel\"  \"package:stats\"     \"package:graphics\" \n [7] \"package:grDevices\" \"package:utils\"     \"package:datasets\" \n[10] \"package:methods\"   \"Autoloads\"         \"package:base\"     ",
            "text/latex": "\\begin{enumerate*}\n\\item '.GlobalEnv'\n\\item 'package:ggplot2'\n\\item 'package:IRdisplay'\n\\item 'jupyter:irkernel'\n\\item 'package:stats'\n\\item 'package:graphics'\n\\item 'package:grDevices'\n\\item 'package:utils'\n\\item 'package:datasets'\n\\item 'package:methods'\n\\item 'Autoloads'\n\\item 'package:base'\n\\end{enumerate*}\n",
            "text/markdown": "1. '.GlobalEnv'\n2. 'package:ggplot2'\n3. 'package:IRdisplay'\n4. 'jupyter:irkernel'\n5. 'package:stats'\n6. 'package:graphics'\n7. 'package:grDevices'\n8. 'package:utils'\n9. 'package:datasets'\n10. 'package:methods'\n11. 'Autoloads'\n12. 'package:base'\n\n\n",
            "text/html": "<ol class=list-inline>\n\t<li>'.GlobalEnv'</li>\n\t<li>'package:ggplot2'</li>\n\t<li>'package:IRdisplay'</li>\n\t<li>'jupyter:irkernel'</li>\n\t<li>'package:stats'</li>\n\t<li>'package:graphics'</li>\n\t<li>'package:grDevices'</li>\n\t<li>'package:utils'</li>\n\t<li>'package:datasets'</li>\n\t<li>'package:methods'</li>\n\t<li>'Autoloads'</li>\n\t<li>'package:base'</li>\n</ol>\n"
          },
          "metadata": {}
        }
      ]
    },
    {
      "metadata": {
        "trusted": true
      },
      "cell_type": "code",
      "source": "x<-7\nx",
      "execution_count": 138,
      "outputs": [
        {
          "output_type": "display_data",
          "data": {
            "text/plain": "[1] 7",
            "text/latex": "7",
            "text/markdown": "7",
            "text/html": "7"
          },
          "metadata": {}
        }
      ]
    },
    {
      "metadata": {
        "trusted": true
      },
      "cell_type": "code",
      "source": "class(x)",
      "execution_count": 139,
      "outputs": [
        {
          "output_type": "display_data",
          "data": {
            "text/plain": "[1] \"numeric\"",
            "text/latex": "'numeric'",
            "text/markdown": "'numeric'",
            "text/html": "'numeric'"
          },
          "metadata": {}
        }
      ]
    },
    {
      "metadata": {
        "trusted": true
      },
      "cell_type": "code",
      "source": "typeof(x)",
      "execution_count": 140,
      "outputs": [
        {
          "output_type": "display_data",
          "data": {
            "text/plain": "[1] \"double\"",
            "text/latex": "'double'",
            "text/markdown": "'double'",
            "text/html": "'double'"
          },
          "metadata": {}
        }
      ]
    },
    {
      "metadata": {
        "trusted": true
      },
      "cell_type": "code",
      "source": "data()   #Returns all the pre-installed datasets in R package",
      "execution_count": 141,
      "outputs": []
    },
    {
      "metadata": {
        "trusted": true
      },
      "cell_type": "code",
      "source": "mtcars   #Internal dataset in R package",
      "execution_count": 142,
      "outputs": [
        {
          "output_type": "display_data",
          "data": {
            "text/plain": "                    mpg  cyl disp  hp  drat wt    qsec  vs am gear carb\nMazda RX4           21.0 6   160.0 110 3.90 2.620 16.46 0  1  4    4   \nMazda RX4 Wag       21.0 6   160.0 110 3.90 2.875 17.02 0  1  4    4   \nDatsun 710          22.8 4   108.0  93 3.85 2.320 18.61 1  1  4    1   \nHornet 4 Drive      21.4 6   258.0 110 3.08 3.215 19.44 1  0  3    1   \nHornet Sportabout   18.7 8   360.0 175 3.15 3.440 17.02 0  0  3    2   \nValiant             18.1 6   225.0 105 2.76 3.460 20.22 1  0  3    1   \nDuster 360          14.3 8   360.0 245 3.21 3.570 15.84 0  0  3    4   \nMerc 240D           24.4 4   146.7  62 3.69 3.190 20.00 1  0  4    2   \nMerc 230            22.8 4   140.8  95 3.92 3.150 22.90 1  0  4    2   \nMerc 280            19.2 6   167.6 123 3.92 3.440 18.30 1  0  4    4   \nMerc 280C           17.8 6   167.6 123 3.92 3.440 18.90 1  0  4    4   \nMerc 450SE          16.4 8   275.8 180 3.07 4.070 17.40 0  0  3    3   \nMerc 450SL          17.3 8   275.8 180 3.07 3.730 17.60 0  0  3    3   \nMerc 450SLC         15.2 8   275.8 180 3.07 3.780 18.00 0  0  3    3   \nCadillac Fleetwood  10.4 8   472.0 205 2.93 5.250 17.98 0  0  3    4   \nLincoln Continental 10.4 8   460.0 215 3.00 5.424 17.82 0  0  3    4   \nChrysler Imperial   14.7 8   440.0 230 3.23 5.345 17.42 0  0  3    4   \nFiat 128            32.4 4    78.7  66 4.08 2.200 19.47 1  1  4    1   \nHonda Civic         30.4 4    75.7  52 4.93 1.615 18.52 1  1  4    2   \nToyota Corolla      33.9 4    71.1  65 4.22 1.835 19.90 1  1  4    1   \nToyota Corona       21.5 4   120.1  97 3.70 2.465 20.01 1  0  3    1   \nDodge Challenger    15.5 8   318.0 150 2.76 3.520 16.87 0  0  3    2   \nAMC Javelin         15.2 8   304.0 150 3.15 3.435 17.30 0  0  3    2   \nCamaro Z28          13.3 8   350.0 245 3.73 3.840 15.41 0  0  3    4   \nPontiac Firebird    19.2 8   400.0 175 3.08 3.845 17.05 0  0  3    2   \nFiat X1-9           27.3 4    79.0  66 4.08 1.935 18.90 1  1  4    1   \nPorsche 914-2       26.0 4   120.3  91 4.43 2.140 16.70 0  1  5    2   \nLotus Europa        30.4 4    95.1 113 3.77 1.513 16.90 1  1  5    2   \nFord Pantera L      15.8 8   351.0 264 4.22 3.170 14.50 0  1  5    4   \nFerrari Dino        19.7 6   145.0 175 3.62 2.770 15.50 0  1  5    6   \nMaserati Bora       15.0 8   301.0 335 3.54 3.570 14.60 0  1  5    8   \nVolvo 142E          21.4 4   121.0 109 4.11 2.780 18.60 1  1  4    2   ",
            "text/latex": "A data.frame: 32 x 11\n\\begin{tabular}{r|lllllllllll}\n  & mpg & cyl & disp & hp & drat & wt & qsec & vs & am & gear & carb\\\\\n  & <dbl> & <dbl> & <dbl> & <dbl> & <dbl> & <dbl> & <dbl> & <dbl> & <dbl> & <dbl> & <dbl>\\\\\n\\hline\n\tMazda RX4 & 21.0 & 6 & 160.0 & 110 & 3.90 & 2.620 & 16.46 & 0 & 1 & 4 & 4\\\\\n\tMazda RX4 Wag & 21.0 & 6 & 160.0 & 110 & 3.90 & 2.875 & 17.02 & 0 & 1 & 4 & 4\\\\\n\tDatsun 710 & 22.8 & 4 & 108.0 &  93 & 3.85 & 2.320 & 18.61 & 1 & 1 & 4 & 1\\\\\n\tHornet 4 Drive & 21.4 & 6 & 258.0 & 110 & 3.08 & 3.215 & 19.44 & 1 & 0 & 3 & 1\\\\\n\tHornet Sportabout & 18.7 & 8 & 360.0 & 175 & 3.15 & 3.440 & 17.02 & 0 & 0 & 3 & 2\\\\\n\tValiant & 18.1 & 6 & 225.0 & 105 & 2.76 & 3.460 & 20.22 & 1 & 0 & 3 & 1\\\\\n\tDuster 360 & 14.3 & 8 & 360.0 & 245 & 3.21 & 3.570 & 15.84 & 0 & 0 & 3 & 4\\\\\n\tMerc 240D & 24.4 & 4 & 146.7 &  62 & 3.69 & 3.190 & 20.00 & 1 & 0 & 4 & 2\\\\\n\tMerc 230 & 22.8 & 4 & 140.8 &  95 & 3.92 & 3.150 & 22.90 & 1 & 0 & 4 & 2\\\\\n\tMerc 280 & 19.2 & 6 & 167.6 & 123 & 3.92 & 3.440 & 18.30 & 1 & 0 & 4 & 4\\\\\n\tMerc 280C & 17.8 & 6 & 167.6 & 123 & 3.92 & 3.440 & 18.90 & 1 & 0 & 4 & 4\\\\\n\tMerc 450SE & 16.4 & 8 & 275.8 & 180 & 3.07 & 4.070 & 17.40 & 0 & 0 & 3 & 3\\\\\n\tMerc 450SL & 17.3 & 8 & 275.8 & 180 & 3.07 & 3.730 & 17.60 & 0 & 0 & 3 & 3\\\\\n\tMerc 450SLC & 15.2 & 8 & 275.8 & 180 & 3.07 & 3.780 & 18.00 & 0 & 0 & 3 & 3\\\\\n\tCadillac Fleetwood & 10.4 & 8 & 472.0 & 205 & 2.93 & 5.250 & 17.98 & 0 & 0 & 3 & 4\\\\\n\tLincoln Continental & 10.4 & 8 & 460.0 & 215 & 3.00 & 5.424 & 17.82 & 0 & 0 & 3 & 4\\\\\n\tChrysler Imperial & 14.7 & 8 & 440.0 & 230 & 3.23 & 5.345 & 17.42 & 0 & 0 & 3 & 4\\\\\n\tFiat 128 & 32.4 & 4 &  78.7 &  66 & 4.08 & 2.200 & 19.47 & 1 & 1 & 4 & 1\\\\\n\tHonda Civic & 30.4 & 4 &  75.7 &  52 & 4.93 & 1.615 & 18.52 & 1 & 1 & 4 & 2\\\\\n\tToyota Corolla & 33.9 & 4 &  71.1 &  65 & 4.22 & 1.835 & 19.90 & 1 & 1 & 4 & 1\\\\\n\tToyota Corona & 21.5 & 4 & 120.1 &  97 & 3.70 & 2.465 & 20.01 & 1 & 0 & 3 & 1\\\\\n\tDodge Challenger & 15.5 & 8 & 318.0 & 150 & 2.76 & 3.520 & 16.87 & 0 & 0 & 3 & 2\\\\\n\tAMC Javelin & 15.2 & 8 & 304.0 & 150 & 3.15 & 3.435 & 17.30 & 0 & 0 & 3 & 2\\\\\n\tCamaro Z28 & 13.3 & 8 & 350.0 & 245 & 3.73 & 3.840 & 15.41 & 0 & 0 & 3 & 4\\\\\n\tPontiac Firebird & 19.2 & 8 & 400.0 & 175 & 3.08 & 3.845 & 17.05 & 0 & 0 & 3 & 2\\\\\n\tFiat X1-9 & 27.3 & 4 &  79.0 &  66 & 4.08 & 1.935 & 18.90 & 1 & 1 & 4 & 1\\\\\n\tPorsche 914-2 & 26.0 & 4 & 120.3 &  91 & 4.43 & 2.140 & 16.70 & 0 & 1 & 5 & 2\\\\\n\tLotus Europa & 30.4 & 4 &  95.1 & 113 & 3.77 & 1.513 & 16.90 & 1 & 1 & 5 & 2\\\\\n\tFord Pantera L & 15.8 & 8 & 351.0 & 264 & 4.22 & 3.170 & 14.50 & 0 & 1 & 5 & 4\\\\\n\tFerrari Dino & 19.7 & 6 & 145.0 & 175 & 3.62 & 2.770 & 15.50 & 0 & 1 & 5 & 6\\\\\n\tMaserati Bora & 15.0 & 8 & 301.0 & 335 & 3.54 & 3.570 & 14.60 & 0 & 1 & 5 & 8\\\\\n\tVolvo 142E & 21.4 & 4 & 121.0 & 109 & 4.11 & 2.780 & 18.60 & 1 & 1 & 4 & 2\\\\\n\\end{tabular}\n",
            "text/markdown": "\nA data.frame: 32 x 11\n\n| <!--/--> | mpg &lt;dbl&gt; | cyl &lt;dbl&gt; | disp &lt;dbl&gt; | hp &lt;dbl&gt; | drat &lt;dbl&gt; | wt &lt;dbl&gt; | qsec &lt;dbl&gt; | vs &lt;dbl&gt; | am &lt;dbl&gt; | gear &lt;dbl&gt; | carb &lt;dbl&gt; |\n|---|---|---|---|---|---|---|---|---|---|---|---|\n| Mazda RX4 | 21.0 | 6 | 160.0 | 110 | 3.90 | 2.620 | 16.46 | 0 | 1 | 4 | 4 |\n| Mazda RX4 Wag | 21.0 | 6 | 160.0 | 110 | 3.90 | 2.875 | 17.02 | 0 | 1 | 4 | 4 |\n| Datsun 710 | 22.8 | 4 | 108.0 |  93 | 3.85 | 2.320 | 18.61 | 1 | 1 | 4 | 1 |\n| Hornet 4 Drive | 21.4 | 6 | 258.0 | 110 | 3.08 | 3.215 | 19.44 | 1 | 0 | 3 | 1 |\n| Hornet Sportabout | 18.7 | 8 | 360.0 | 175 | 3.15 | 3.440 | 17.02 | 0 | 0 | 3 | 2 |\n| Valiant | 18.1 | 6 | 225.0 | 105 | 2.76 | 3.460 | 20.22 | 1 | 0 | 3 | 1 |\n| Duster 360 | 14.3 | 8 | 360.0 | 245 | 3.21 | 3.570 | 15.84 | 0 | 0 | 3 | 4 |\n| Merc 240D | 24.4 | 4 | 146.7 |  62 | 3.69 | 3.190 | 20.00 | 1 | 0 | 4 | 2 |\n| Merc 230 | 22.8 | 4 | 140.8 |  95 | 3.92 | 3.150 | 22.90 | 1 | 0 | 4 | 2 |\n| Merc 280 | 19.2 | 6 | 167.6 | 123 | 3.92 | 3.440 | 18.30 | 1 | 0 | 4 | 4 |\n| Merc 280C | 17.8 | 6 | 167.6 | 123 | 3.92 | 3.440 | 18.90 | 1 | 0 | 4 | 4 |\n| Merc 450SE | 16.4 | 8 | 275.8 | 180 | 3.07 | 4.070 | 17.40 | 0 | 0 | 3 | 3 |\n| Merc 450SL | 17.3 | 8 | 275.8 | 180 | 3.07 | 3.730 | 17.60 | 0 | 0 | 3 | 3 |\n| Merc 450SLC | 15.2 | 8 | 275.8 | 180 | 3.07 | 3.780 | 18.00 | 0 | 0 | 3 | 3 |\n| Cadillac Fleetwood | 10.4 | 8 | 472.0 | 205 | 2.93 | 5.250 | 17.98 | 0 | 0 | 3 | 4 |\n| Lincoln Continental | 10.4 | 8 | 460.0 | 215 | 3.00 | 5.424 | 17.82 | 0 | 0 | 3 | 4 |\n| Chrysler Imperial | 14.7 | 8 | 440.0 | 230 | 3.23 | 5.345 | 17.42 | 0 | 0 | 3 | 4 |\n| Fiat 128 | 32.4 | 4 |  78.7 |  66 | 4.08 | 2.200 | 19.47 | 1 | 1 | 4 | 1 |\n| Honda Civic | 30.4 | 4 |  75.7 |  52 | 4.93 | 1.615 | 18.52 | 1 | 1 | 4 | 2 |\n| Toyota Corolla | 33.9 | 4 |  71.1 |  65 | 4.22 | 1.835 | 19.90 | 1 | 1 | 4 | 1 |\n| Toyota Corona | 21.5 | 4 | 120.1 |  97 | 3.70 | 2.465 | 20.01 | 1 | 0 | 3 | 1 |\n| Dodge Challenger | 15.5 | 8 | 318.0 | 150 | 2.76 | 3.520 | 16.87 | 0 | 0 | 3 | 2 |\n| AMC Javelin | 15.2 | 8 | 304.0 | 150 | 3.15 | 3.435 | 17.30 | 0 | 0 | 3 | 2 |\n| Camaro Z28 | 13.3 | 8 | 350.0 | 245 | 3.73 | 3.840 | 15.41 | 0 | 0 | 3 | 4 |\n| Pontiac Firebird | 19.2 | 8 | 400.0 | 175 | 3.08 | 3.845 | 17.05 | 0 | 0 | 3 | 2 |\n| Fiat X1-9 | 27.3 | 4 |  79.0 |  66 | 4.08 | 1.935 | 18.90 | 1 | 1 | 4 | 1 |\n| Porsche 914-2 | 26.0 | 4 | 120.3 |  91 | 4.43 | 2.140 | 16.70 | 0 | 1 | 5 | 2 |\n| Lotus Europa | 30.4 | 4 |  95.1 | 113 | 3.77 | 1.513 | 16.90 | 1 | 1 | 5 | 2 |\n| Ford Pantera L | 15.8 | 8 | 351.0 | 264 | 4.22 | 3.170 | 14.50 | 0 | 1 | 5 | 4 |\n| Ferrari Dino | 19.7 | 6 | 145.0 | 175 | 3.62 | 2.770 | 15.50 | 0 | 1 | 5 | 6 |\n| Maserati Bora | 15.0 | 8 | 301.0 | 335 | 3.54 | 3.570 | 14.60 | 0 | 1 | 5 | 8 |\n| Volvo 142E | 21.4 | 4 | 121.0 | 109 | 4.11 | 2.780 | 18.60 | 1 | 1 | 4 | 2 |\n\n",
            "text/html": "<table>\n<caption>A data.frame: 32 x 11</caption>\n<thead>\n\t<tr><th></th><th scope=col>mpg</th><th scope=col>cyl</th><th scope=col>disp</th><th scope=col>hp</th><th scope=col>drat</th><th scope=col>wt</th><th scope=col>qsec</th><th scope=col>vs</th><th scope=col>am</th><th scope=col>gear</th><th scope=col>carb</th></tr>\n\t<tr><th></th><th scope=col>&lt;dbl&gt;</th><th scope=col>&lt;dbl&gt;</th><th scope=col>&lt;dbl&gt;</th><th scope=col>&lt;dbl&gt;</th><th scope=col>&lt;dbl&gt;</th><th scope=col>&lt;dbl&gt;</th><th scope=col>&lt;dbl&gt;</th><th scope=col>&lt;dbl&gt;</th><th scope=col>&lt;dbl&gt;</th><th scope=col>&lt;dbl&gt;</th><th scope=col>&lt;dbl&gt;</th></tr>\n</thead>\n<tbody>\n\t<tr><th scope=row>Mazda RX4</th><td>21.0</td><td>6</td><td>160.0</td><td>110</td><td>3.90</td><td>2.620</td><td>16.46</td><td>0</td><td>1</td><td>4</td><td>4</td></tr>\n\t<tr><th scope=row>Mazda RX4 Wag</th><td>21.0</td><td>6</td><td>160.0</td><td>110</td><td>3.90</td><td>2.875</td><td>17.02</td><td>0</td><td>1</td><td>4</td><td>4</td></tr>\n\t<tr><th scope=row>Datsun 710</th><td>22.8</td><td>4</td><td>108.0</td><td> 93</td><td>3.85</td><td>2.320</td><td>18.61</td><td>1</td><td>1</td><td>4</td><td>1</td></tr>\n\t<tr><th scope=row>Hornet 4 Drive</th><td>21.4</td><td>6</td><td>258.0</td><td>110</td><td>3.08</td><td>3.215</td><td>19.44</td><td>1</td><td>0</td><td>3</td><td>1</td></tr>\n\t<tr><th scope=row>Hornet Sportabout</th><td>18.7</td><td>8</td><td>360.0</td><td>175</td><td>3.15</td><td>3.440</td><td>17.02</td><td>0</td><td>0</td><td>3</td><td>2</td></tr>\n\t<tr><th scope=row>Valiant</th><td>18.1</td><td>6</td><td>225.0</td><td>105</td><td>2.76</td><td>3.460</td><td>20.22</td><td>1</td><td>0</td><td>3</td><td>1</td></tr>\n\t<tr><th scope=row>Duster 360</th><td>14.3</td><td>8</td><td>360.0</td><td>245</td><td>3.21</td><td>3.570</td><td>15.84</td><td>0</td><td>0</td><td>3</td><td>4</td></tr>\n\t<tr><th scope=row>Merc 240D</th><td>24.4</td><td>4</td><td>146.7</td><td> 62</td><td>3.69</td><td>3.190</td><td>20.00</td><td>1</td><td>0</td><td>4</td><td>2</td></tr>\n\t<tr><th scope=row>Merc 230</th><td>22.8</td><td>4</td><td>140.8</td><td> 95</td><td>3.92</td><td>3.150</td><td>22.90</td><td>1</td><td>0</td><td>4</td><td>2</td></tr>\n\t<tr><th scope=row>Merc 280</th><td>19.2</td><td>6</td><td>167.6</td><td>123</td><td>3.92</td><td>3.440</td><td>18.30</td><td>1</td><td>0</td><td>4</td><td>4</td></tr>\n\t<tr><th scope=row>Merc 280C</th><td>17.8</td><td>6</td><td>167.6</td><td>123</td><td>3.92</td><td>3.440</td><td>18.90</td><td>1</td><td>0</td><td>4</td><td>4</td></tr>\n\t<tr><th scope=row>Merc 450SE</th><td>16.4</td><td>8</td><td>275.8</td><td>180</td><td>3.07</td><td>4.070</td><td>17.40</td><td>0</td><td>0</td><td>3</td><td>3</td></tr>\n\t<tr><th scope=row>Merc 450SL</th><td>17.3</td><td>8</td><td>275.8</td><td>180</td><td>3.07</td><td>3.730</td><td>17.60</td><td>0</td><td>0</td><td>3</td><td>3</td></tr>\n\t<tr><th scope=row>Merc 450SLC</th><td>15.2</td><td>8</td><td>275.8</td><td>180</td><td>3.07</td><td>3.780</td><td>18.00</td><td>0</td><td>0</td><td>3</td><td>3</td></tr>\n\t<tr><th scope=row>Cadillac Fleetwood</th><td>10.4</td><td>8</td><td>472.0</td><td>205</td><td>2.93</td><td>5.250</td><td>17.98</td><td>0</td><td>0</td><td>3</td><td>4</td></tr>\n\t<tr><th scope=row>Lincoln Continental</th><td>10.4</td><td>8</td><td>460.0</td><td>215</td><td>3.00</td><td>5.424</td><td>17.82</td><td>0</td><td>0</td><td>3</td><td>4</td></tr>\n\t<tr><th scope=row>Chrysler Imperial</th><td>14.7</td><td>8</td><td>440.0</td><td>230</td><td>3.23</td><td>5.345</td><td>17.42</td><td>0</td><td>0</td><td>3</td><td>4</td></tr>\n\t<tr><th scope=row>Fiat 128</th><td>32.4</td><td>4</td><td> 78.7</td><td> 66</td><td>4.08</td><td>2.200</td><td>19.47</td><td>1</td><td>1</td><td>4</td><td>1</td></tr>\n\t<tr><th scope=row>Honda Civic</th><td>30.4</td><td>4</td><td> 75.7</td><td> 52</td><td>4.93</td><td>1.615</td><td>18.52</td><td>1</td><td>1</td><td>4</td><td>2</td></tr>\n\t<tr><th scope=row>Toyota Corolla</th><td>33.9</td><td>4</td><td> 71.1</td><td> 65</td><td>4.22</td><td>1.835</td><td>19.90</td><td>1</td><td>1</td><td>4</td><td>1</td></tr>\n\t<tr><th scope=row>Toyota Corona</th><td>21.5</td><td>4</td><td>120.1</td><td> 97</td><td>3.70</td><td>2.465</td><td>20.01</td><td>1</td><td>0</td><td>3</td><td>1</td></tr>\n\t<tr><th scope=row>Dodge Challenger</th><td>15.5</td><td>8</td><td>318.0</td><td>150</td><td>2.76</td><td>3.520</td><td>16.87</td><td>0</td><td>0</td><td>3</td><td>2</td></tr>\n\t<tr><th scope=row>AMC Javelin</th><td>15.2</td><td>8</td><td>304.0</td><td>150</td><td>3.15</td><td>3.435</td><td>17.30</td><td>0</td><td>0</td><td>3</td><td>2</td></tr>\n\t<tr><th scope=row>Camaro Z28</th><td>13.3</td><td>8</td><td>350.0</td><td>245</td><td>3.73</td><td>3.840</td><td>15.41</td><td>0</td><td>0</td><td>3</td><td>4</td></tr>\n\t<tr><th scope=row>Pontiac Firebird</th><td>19.2</td><td>8</td><td>400.0</td><td>175</td><td>3.08</td><td>3.845</td><td>17.05</td><td>0</td><td>0</td><td>3</td><td>2</td></tr>\n\t<tr><th scope=row>Fiat X1-9</th><td>27.3</td><td>4</td><td> 79.0</td><td> 66</td><td>4.08</td><td>1.935</td><td>18.90</td><td>1</td><td>1</td><td>4</td><td>1</td></tr>\n\t<tr><th scope=row>Porsche 914-2</th><td>26.0</td><td>4</td><td>120.3</td><td> 91</td><td>4.43</td><td>2.140</td><td>16.70</td><td>0</td><td>1</td><td>5</td><td>2</td></tr>\n\t<tr><th scope=row>Lotus Europa</th><td>30.4</td><td>4</td><td> 95.1</td><td>113</td><td>3.77</td><td>1.513</td><td>16.90</td><td>1</td><td>1</td><td>5</td><td>2</td></tr>\n\t<tr><th scope=row>Ford Pantera L</th><td>15.8</td><td>8</td><td>351.0</td><td>264</td><td>4.22</td><td>3.170</td><td>14.50</td><td>0</td><td>1</td><td>5</td><td>4</td></tr>\n\t<tr><th scope=row>Ferrari Dino</th><td>19.7</td><td>6</td><td>145.0</td><td>175</td><td>3.62</td><td>2.770</td><td>15.50</td><td>0</td><td>1</td><td>5</td><td>6</td></tr>\n\t<tr><th scope=row>Maserati Bora</th><td>15.0</td><td>8</td><td>301.0</td><td>335</td><td>3.54</td><td>3.570</td><td>14.60</td><td>0</td><td>1</td><td>5</td><td>8</td></tr>\n\t<tr><th scope=row>Volvo 142E</th><td>21.4</td><td>4</td><td>121.0</td><td>109</td><td>4.11</td><td>2.780</td><td>18.60</td><td>1</td><td>1</td><td>4</td><td>2</td></tr>\n</tbody>\n</table>\n"
          },
          "metadata": {}
        }
      ]
    },
    {
      "metadata": {
        "trusted": true
      },
      "cell_type": "code",
      "source": "sleep   #Internal dataset in R package",
      "execution_count": 143,
      "outputs": [
        {
          "output_type": "display_data",
          "data": {
            "text/plain": "   extra group ID\n1   0.7  1     1 \n2  -1.6  1     2 \n3  -0.2  1     3 \n4  -1.2  1     4 \n5  -0.1  1     5 \n6   3.4  1     6 \n7   3.7  1     7 \n8   0.8  1     8 \n9   0.0  1     9 \n10  2.0  1     10\n11  1.9  2     1 \n12  0.8  2     2 \n13  1.1  2     3 \n14  0.1  2     4 \n15 -0.1  2     5 \n16  4.4  2     6 \n17  5.5  2     7 \n18  1.6  2     8 \n19  4.6  2     9 \n20  3.4  2     10",
            "text/latex": "A data.frame: 20 x 3\n\\begin{tabular}{r|lll}\n extra & group & ID\\\\\n <dbl> & <fct> & <fct>\\\\\n\\hline\n\t  0.7 & 1 & 1 \\\\\n\t -1.6 & 1 & 2 \\\\\n\t -0.2 & 1 & 3 \\\\\n\t -1.2 & 1 & 4 \\\\\n\t -0.1 & 1 & 5 \\\\\n\t  3.4 & 1 & 6 \\\\\n\t  3.7 & 1 & 7 \\\\\n\t  0.8 & 1 & 8 \\\\\n\t  0.0 & 1 & 9 \\\\\n\t  2.0 & 1 & 10\\\\\n\t  1.9 & 2 & 1 \\\\\n\t  0.8 & 2 & 2 \\\\\n\t  1.1 & 2 & 3 \\\\\n\t  0.1 & 2 & 4 \\\\\n\t -0.1 & 2 & 5 \\\\\n\t  4.4 & 2 & 6 \\\\\n\t  5.5 & 2 & 7 \\\\\n\t  1.6 & 2 & 8 \\\\\n\t  4.6 & 2 & 9 \\\\\n\t  3.4 & 2 & 10\\\\\n\\end{tabular}\n",
            "text/markdown": "\nA data.frame: 20 x 3\n\n| extra &lt;dbl&gt; | group &lt;fct&gt; | ID &lt;fct&gt; |\n|---|---|---|\n|  0.7 | 1 | 1  |\n| -1.6 | 1 | 2  |\n| -0.2 | 1 | 3  |\n| -1.2 | 1 | 4  |\n| -0.1 | 1 | 5  |\n|  3.4 | 1 | 6  |\n|  3.7 | 1 | 7  |\n|  0.8 | 1 | 8  |\n|  0.0 | 1 | 9  |\n|  2.0 | 1 | 10 |\n|  1.9 | 2 | 1  |\n|  0.8 | 2 | 2  |\n|  1.1 | 2 | 3  |\n|  0.1 | 2 | 4  |\n| -0.1 | 2 | 5  |\n|  4.4 | 2 | 6  |\n|  5.5 | 2 | 7  |\n|  1.6 | 2 | 8  |\n|  4.6 | 2 | 9  |\n|  3.4 | 2 | 10 |\n\n",
            "text/html": "<table>\n<caption>A data.frame: 20 x 3</caption>\n<thead>\n\t<tr><th scope=col>extra</th><th scope=col>group</th><th scope=col>ID</th></tr>\n\t<tr><th scope=col>&lt;dbl&gt;</th><th scope=col>&lt;fct&gt;</th><th scope=col>&lt;fct&gt;</th></tr>\n</thead>\n<tbody>\n\t<tr><td> 0.7</td><td>1</td><td>1 </td></tr>\n\t<tr><td>-1.6</td><td>1</td><td>2 </td></tr>\n\t<tr><td>-0.2</td><td>1</td><td>3 </td></tr>\n\t<tr><td>-1.2</td><td>1</td><td>4 </td></tr>\n\t<tr><td>-0.1</td><td>1</td><td>5 </td></tr>\n\t<tr><td> 3.4</td><td>1</td><td>6 </td></tr>\n\t<tr><td> 3.7</td><td>1</td><td>7 </td></tr>\n\t<tr><td> 0.8</td><td>1</td><td>8 </td></tr>\n\t<tr><td> 0.0</td><td>1</td><td>9 </td></tr>\n\t<tr><td> 2.0</td><td>1</td><td>10</td></tr>\n\t<tr><td> 1.9</td><td>2</td><td>1 </td></tr>\n\t<tr><td> 0.8</td><td>2</td><td>2 </td></tr>\n\t<tr><td> 1.1</td><td>2</td><td>3 </td></tr>\n\t<tr><td> 0.1</td><td>2</td><td>4 </td></tr>\n\t<tr><td>-0.1</td><td>2</td><td>5 </td></tr>\n\t<tr><td> 4.4</td><td>2</td><td>6 </td></tr>\n\t<tr><td> 5.5</td><td>2</td><td>7 </td></tr>\n\t<tr><td> 1.6</td><td>2</td><td>8 </td></tr>\n\t<tr><td> 4.6</td><td>2</td><td>9 </td></tr>\n\t<tr><td> 3.4</td><td>2</td><td>10</td></tr>\n</tbody>\n</table>\n"
          },
          "metadata": {}
        }
      ]
    },
    {
      "metadata": {
        "trusted": true
      },
      "cell_type": "code",
      "source": "x='Testing R Program'\nsubstr(x,0,3)       # 0 is referred as index 1 ",
      "execution_count": 144,
      "outputs": [
        {
          "output_type": "display_data",
          "data": {
            "text/plain": "[1] \"Tes\"",
            "text/latex": "'Tes'",
            "text/markdown": "'Tes'",
            "text/html": "'Tes'"
          },
          "metadata": {}
        }
      ]
    },
    {
      "metadata": {
        "trusted": true
      },
      "cell_type": "code",
      "source": "substr(x,1,3)",
      "execution_count": 145,
      "outputs": [
        {
          "output_type": "display_data",
          "data": {
            "text/plain": "[1] \"Tes\"",
            "text/latex": "'Tes'",
            "text/markdown": "'Tes'",
            "text/html": "'Tes'"
          },
          "metadata": {}
        }
      ]
    },
    {
      "metadata": {
        "trusted": true
      },
      "cell_type": "code",
      "source": "",
      "execution_count": null,
      "outputs": []
    }
  ],
  "metadata": {
    "kernelspec": {
      "name": "r",
      "display_name": "R",
      "language": "R"
    },
    "language_info": {
      "mimetype": "text/x-r-source",
      "name": "R",
      "pygments_lexer": "r",
      "version": "3.5.3",
      "file_extension": ".r",
      "codemirror_mode": "r"
    }
  },
  "nbformat": 4,
  "nbformat_minor": 2
}